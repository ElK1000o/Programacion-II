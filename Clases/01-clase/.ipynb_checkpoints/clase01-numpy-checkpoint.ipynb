{
 "cells": [
  {
   "cell_type": "markdown",
   "id": "c32a6f99",
   "metadata": {
    "tags": []
   },
   "source": [
    "# **Librería NumPy**\n",
    "\n",
    "Aunque Python tiene varios tipos de datos estructurados, en la práctica no son nada adecuados para cálculo numérico. Veamos un ejemplo de un cálculo numérico básico empleando listas:"
   ]
  },
  {
   "cell_type": "code",
   "execution_count": 1,
   "id": "cc2fc133",
   "metadata": {},
   "outputs": [],
   "source": [
    "lista = list(range(5))    # Lista de numeros de 0 a 4"
   ]
  },
  {
   "cell_type": "code",
   "execution_count": 2,
   "id": "b1ad1227-0656-418c-abc8-d8d470f5e423",
   "metadata": {},
   "outputs": [
    {
     "name": "stdout",
     "output_type": "stream",
     "text": [
      "[0, 1, 2, 3, 4]\n"
     ]
    }
   ],
   "source": [
    "print(lista)"
   ]
  },
  {
   "cell_type": "code",
   "execution_count": 3,
   "id": "4977ce8b",
   "metadata": {},
   "outputs": [
    {
     "name": "stdout",
     "output_type": "stream",
     "text": [
      "[0, 1, 2, 3, 4, 0, 1, 2, 3, 4]\n"
     ]
    }
   ],
   "source": [
    "print(lista*2)"
   ]
  },
  {
   "cell_type": "code",
   "execution_count": 4,
   "id": "250786b5",
   "metadata": {},
   "outputs": [
    {
     "ename": "TypeError",
     "evalue": "can't multiply sequence by non-int of type 'float'",
     "output_type": "error",
     "traceback": [
      "\u001b[1;31m---------------------------------------------------------------------------\u001b[0m",
      "\u001b[1;31mTypeError\u001b[0m                                 Traceback (most recent call last)",
      "Cell \u001b[1;32mIn[4], line 1\u001b[0m\n\u001b[1;32m----> 1\u001b[0m \u001b[38;5;28mprint\u001b[39m(\u001b[43mlista\u001b[49m\u001b[38;5;241;43m*\u001b[39;49m\u001b[38;5;241;43m2.5\u001b[39;49m)\n",
      "\u001b[1;31mTypeError\u001b[0m: can't multiply sequence by non-int of type 'float'"
     ]
    }
   ],
   "source": [
    "print(lista*2.5)"
   ]
  },
  {
   "cell_type": "markdown",
   "id": "1d461cd0",
   "metadata": {},
   "source": [
    "En el ejemplo anterior vemos cómo al multiplicar una lista por un número entero, el resultado es concatenar la lista original tantas veces como indica el número, en lugar de multiplicar cada uno de sus elementos por este número, que es lo a veces cabría esperar. Es más, al multiplicarlo por un número no entero da un error, al no poder crear una fracción de una lista. Si quisiéramos hacer esto, se podría resolver iterando cada uno de los elementos de la lista con un bucle for, por ejemplo:"
   ]
  },
  {
   "cell_type": "code",
   "execution_count": 5,
   "id": "0ada4397",
   "metadata": {},
   "outputs": [
    {
     "name": "stdout",
     "output_type": "stream",
     "text": [
      "[0.0, 2.5, 5.0, 7.5, 10.0]\n"
     ]
    }
   ],
   "source": [
    "lista_nueva = [i*2.5 for i in lista]\n",
    "print(lista_nueva)"
   ]
  },
  {
   "cell_type": "markdown",
   "id": "c8bd7d40",
   "metadata": {},
   "source": [
    "aunque esta técnica es ineficiente y lenta, sobre todo cuando queremos evaluar funciones, polinomios o cualquier otra operación matemática que aparece en cualquier problema científico.\n",
    "\n",
    "Cuando realmente queremos hacer cálculos con listas de números, debemos usar los arrays. El módulo numpy nos da acceso a los arrays y a una gran cantidad de métodos y funciones aplicables a los mismos. Naturalmente, numpy incluye funciones matemáticas básicas similares al módulo math, las completa con otras más elaboradas y además incluye algunas utilidades de números aleatorios, ajuste lineal de funciones y muchas otras.\n",
    "\n",
    "Para trabajar con numpy y los arrays, importamos el módulos de alguna manera:"
   ]
  },
  {
   "cell_type": "code",
   "execution_count": 2,
   "id": "acd496db",
   "metadata": {},
   "outputs": [],
   "source": [
    "import numpy              # Cargar el modulo numpy, o bien\n",
    "import numpy as np        # cargar el modulo numpy, llamándolo np, o bien\n",
    "from numpy import *       # cargar todas funciones de numpy"
   ]
  },
  {
   "cell_type": "markdown",
   "id": "56fcd334",
   "metadata": {},
   "source": [
    "Si cargamos el módulo solamente, accederemos a las funciones como numpy.array() o np.array(), según cómo importemos el módulo; si en lugar de eso importamos todas las funciones, accederemos a ellas directamente (e.g. array()). Por comodidad usaremos por ahora esta última opción, aunque muy a menudo veremos que usa la notación np.array(), especialmente cuando trabajamos con varios módulos distintos.\n",
    "\n",
    "Un array se puede crear explícitamente o a partir de una lista de la forma siguiente:"
   ]
  },
  {
   "cell_type": "code",
   "execution_count": 7,
   "id": "76e5feff",
   "metadata": {},
   "outputs": [],
   "source": [
    "x = array([2.0, 4.6, 9.3, 1.2])      # Creacion de un array directamente\n",
    "notas = [ 9.8, 7.8, 9.9, 8.4, 6.7]  # Crear un lista\n",
    "notas = array(notas)                # y convertir la lista a array"
   ]
  },
  {
   "cell_type": "markdown",
   "id": "aef2e584",
   "metadata": {},
   "source": [
    "Existen métodos para crear arrays automáticamente:"
   ]
  },
  {
   "cell_type": "code",
   "execution_count": 8,
   "id": "9d735f63",
   "metadata": {},
   "outputs": [
    {
     "name": "stdout",
     "output_type": "stream",
     "text": [
      "[0. 1. 2. 3. 4. 5. 6. 7. 8. 9.]\n"
     ]
    }
   ],
   "source": [
    "numeros = arange(10.)               # Array de numeros (floats) de 0 a 9\n",
    "print(numeros)"
   ]
  },
  {
   "cell_type": "code",
   "execution_count": 9,
   "id": "84c8b9fa",
   "metadata": {},
   "outputs": [
    {
     "name": "stdout",
     "output_type": "stream",
     "text": [
      "[0. 0. 0. 0. 0. 0. 0. 0. 0. 0.]\n"
     ]
    }
   ],
   "source": [
    "lista_ceros = zeros(10)             # Array de 10 ceros (floats)\n",
    "print(lista_ceros)"
   ]
  },
  {
   "cell_type": "code",
   "execution_count": 10,
   "id": "17b56ece",
   "metadata": {},
   "outputs": [
    {
     "name": "stdout",
     "output_type": "stream",
     "text": [
      "[1. 1. 1. 1. 1. 1. 1. 1. 1. 1.]\n"
     ]
    }
   ],
   "source": [
    "lista_unos = ones(10)                # Array de 10 unos (floats)\n",
    "print(lista_unos)"
   ]
  },
  {
   "cell_type": "code",
   "execution_count": 11,
   "id": "76a30ef7",
   "metadata": {},
   "outputs": [
    {
     "name": "stdout",
     "output_type": "stream",
     "text": [
      "[ 0.          4.28571429  8.57142857 12.85714286 17.14285714 21.42857143\n",
      " 25.71428571 30.        ]\n"
     ]
    }
   ],
   "source": [
    "otra_lista = linspace(0, 30, 8)       # Array de 8 números, de 0 a 30 ambos incluidos\n",
    "print(otra_lista)"
   ]
  },
  {
   "cell_type": "markdown",
   "id": "7a9b636d",
   "metadata": {},
   "source": [
    "Los arrays se indexan prácticamente igual que las listas y las cadenas de texto; aquí hay algunos ejemplos:"
   ]
  },
  {
   "cell_type": "code",
   "execution_count": 12,
   "id": "daec713c",
   "metadata": {},
   "outputs": [
    {
     "name": "stdout",
     "output_type": "stream",
     "text": [
      "[3. 4. 5. 6. 7.]\n"
     ]
    }
   ],
   "source": [
    "print(numeros[3:8])           # Elementos desde el tercero al septimo"
   ]
  },
  {
   "cell_type": "code",
   "execution_count": 13,
   "id": "6ba65f97",
   "metadata": {},
   "outputs": [
    {
     "name": "stdout",
     "output_type": "stream",
     "text": [
      "[0. 1. 2. 3.]\n"
     ]
    }
   ],
   "source": [
    "print(numeros[:4])            # Elementos desde el primero al cuarto"
   ]
  },
  {
   "cell_type": "code",
   "execution_count": 14,
   "id": "b7c3bfa5",
   "metadata": {},
   "outputs": [
    {
     "name": "stdout",
     "output_type": "stream",
     "text": [
      "[5. 6. 7. 8. 9.]\n"
     ]
    }
   ],
   "source": [
    "print(numeros[5:])            # Elementos desde el quinto al final"
   ]
  },
  {
   "cell_type": "code",
   "execution_count": 15,
   "id": "feddb9ff",
   "metadata": {},
   "outputs": [
    {
     "name": "stdout",
     "output_type": "stream",
     "text": [
      "7.0\n"
     ]
    }
   ],
   "source": [
    "print(numeros[-3])            # El antepenúltimo elemento (devuelve un elemento, no un array)"
   ]
  },
  {
   "cell_type": "code",
   "execution_count": 16,
   "id": "41cf6640",
   "metadata": {},
   "outputs": [
    {
     "name": "stdout",
     "output_type": "stream",
     "text": [
      "[0. 1. 2. 3. 4. 5. 6. 7. 8. 9.]\n"
     ]
    }
   ],
   "source": [
    "print(numeros[:])             # Todo el array, equivalente a print(numeros)"
   ]
  },
  {
   "cell_type": "code",
   "execution_count": 17,
   "id": "c2f43238",
   "metadata": {},
   "outputs": [
    {
     "name": "stdout",
     "output_type": "stream",
     "text": [
      "[2. 4. 6.]\n"
     ]
    }
   ],
   "source": [
    "print(numeros[2:8:2])         # Elementos del segundo al septimo, pero saltando de dos en dos"
   ]
  },
  {
   "cell_type": "markdown",
   "id": "a7667024",
   "metadata": {},
   "source": [
    "Al igual que las listas, podemos ver el tamaño de un array unidimensional con len(), aunque la manera correcta de conocer la forma de un array es usando el método shape():"
   ]
  },
  {
   "cell_type": "code",
   "execution_count": 18,
   "id": "4647cf8b",
   "metadata": {},
   "outputs": [
    {
     "name": "stdout",
     "output_type": "stream",
     "text": [
      "10\n",
      "(10,)\n"
     ]
    }
   ],
   "source": [
    "print(len(numeros))\n",
    "\n",
    "print(numeros.shape)"
   ]
  },
  {
   "cell_type": "markdown",
   "id": "1ada0aa3",
   "metadata": {},
   "source": [
    "Nótese que el resultado del método shape() es una tupla, en este caso con un solo elemento ya que el array números es unidimensional.\n",
    "\n",
    "Si creamos un array con np.arange() usando un número entero, el array que se creará será de enteros. Es posible cambiar todo el array a otro tipo de dato (como a float) usando el método astype():"
   ]
  },
  {
   "cell_type": "code",
   "execution_count": 19,
   "id": "a9917f68",
   "metadata": {},
   "outputs": [],
   "source": [
    "enteros = arange(6)"
   ]
  },
  {
   "cell_type": "code",
   "execution_count": 20,
   "id": "6c10c9a7",
   "metadata": {},
   "outputs": [
    {
     "name": "stdout",
     "output_type": "stream",
     "text": [
      "[0 1 2 3 4 5]\n"
     ]
    }
   ],
   "source": [
    "print(enteros)"
   ]
  },
  {
   "cell_type": "code",
   "execution_count": 21,
   "id": "d0ff4b45",
   "metadata": {},
   "outputs": [
    {
     "data": {
      "text/plain": [
       "numpy.ndarray"
      ]
     },
     "execution_count": 21,
     "metadata": {},
     "output_type": "execute_result"
    }
   ],
   "source": [
    "type(enteros)"
   ]
  },
  {
   "cell_type": "code",
   "execution_count": 22,
   "id": "7268e8cb",
   "metadata": {},
   "outputs": [
    {
     "data": {
      "text/plain": [
       "numpy.int32"
      ]
     },
     "execution_count": 22,
     "metadata": {},
     "output_type": "execute_result"
    }
   ],
   "source": [
    "type(enteros[2])"
   ]
  },
  {
   "cell_type": "code",
   "execution_count": 23,
   "id": "503f43a4",
   "metadata": {},
   "outputs": [],
   "source": [
    "decimales = enteros.astype('float')"
   ]
  },
  {
   "cell_type": "code",
   "execution_count": 24,
   "id": "6d78ebe8",
   "metadata": {},
   "outputs": [
    {
     "data": {
      "text/plain": [
       "numpy.ndarray"
      ]
     },
     "execution_count": 24,
     "metadata": {},
     "output_type": "execute_result"
    }
   ],
   "source": [
    "type(decimales)"
   ]
  },
  {
   "cell_type": "code",
   "execution_count": 25,
   "id": "6edb75f4",
   "metadata": {},
   "outputs": [
    {
     "data": {
      "text/plain": [
       "numpy.float64"
      ]
     },
     "execution_count": 25,
     "metadata": {},
     "output_type": "execute_result"
    }
   ],
   "source": [
    "type(decimales[4])"
   ]
  },
  {
   "cell_type": "code",
   "execution_count": 26,
   "id": "9b6e5f1f",
   "metadata": {},
   "outputs": [
    {
     "name": "stdout",
     "output_type": "stream",
     "text": [
      "[0. 1. 2. 3. 4. 5.]\n"
     ]
    }
   ],
   "source": [
    "print(decimales)"
   ]
  },
  {
   "cell_type": "code",
   "execution_count": 27,
   "id": "7ce7eb59",
   "metadata": {},
   "outputs": [
    {
     "name": "stdout",
     "output_type": "stream",
     "text": [
      "(6,)\n"
     ]
    }
   ],
   "source": [
    "print(decimales.shape)   # Forma o tamaño del array"
   ]
  },
  {
   "cell_type": "markdown",
   "id": "ad609a76",
   "metadata": {},
   "source": [
    "## Operaciones con arrays"
   ]
  },
  {
   "cell_type": "markdown",
   "id": "16853621",
   "metadata": {},
   "source": [
    "Los arrays permiten hacer operaciones aritméticas básicas entre ellos en la forma que uno esperaría que se hicieran, es decir, haciéndolo elemento a elemento; para ello ambos arrays deben tener siempre la misma longitud, por ejemplo:"
   ]
  },
  {
   "cell_type": "code",
   "execution_count": 28,
   "id": "1d9b37d2",
   "metadata": {},
   "outputs": [],
   "source": [
    "x = array([5.6, 7.3, 7.7, 2.3, 4.2, 9.2])"
   ]
  },
  {
   "cell_type": "code",
   "execution_count": 29,
   "id": "0a1addcb",
   "metadata": {},
   "outputs": [
    {
     "name": "stdout",
     "output_type": "stream",
     "text": [
      "[ 5.6  8.3  9.7  5.3  8.2 14.2]\n"
     ]
    }
   ],
   "source": [
    "print(x+decimales)"
   ]
  },
  {
   "cell_type": "code",
   "execution_count": 30,
   "id": "3ebf69e7",
   "metadata": {},
   "outputs": [
    {
     "name": "stdout",
     "output_type": "stream",
     "text": [
      "[ 0.   7.3 15.4  6.9 16.8 46. ]\n"
     ]
    }
   ],
   "source": [
    "print(x*decimales)"
   ]
  },
  {
   "cell_type": "code",
   "execution_count": 31,
   "id": "0f9c887d",
   "metadata": {},
   "outputs": [
    {
     "name": "stdout",
     "output_type": "stream",
     "text": [
      "[       inf 7.3        3.85       0.76666667 1.05       1.84      ]\n"
     ]
    },
    {
     "name": "stderr",
     "output_type": "stream",
     "text": [
      "C:\\Users\\criqu\\AppData\\Local\\Temp\\ipykernel_26036\\3628999452.py:1: RuntimeWarning: divide by zero encountered in divide\n",
      "  print(x/decimales)\n"
     ]
    }
   ],
   "source": [
    "print(x/decimales)"
   ]
  },
  {
   "cell_type": "markdown",
   "id": "fd5e62c5",
   "metadata": {},
   "source": [
    "Como podemos ver las operaciones se hacen elemento a elemento, por lo que ambas deben tener la misma forma (shape()). Fíjense que en la división el resultado del primer elemento es indefinido/infinito (Inf) debido a la división por cero."
   ]
  },
  {
   "cell_type": "markdown",
   "id": "49982886",
   "metadata": {},
   "source": [
    "Las operaciones entre un arreglo y un valor simple funcionan aplicando la operación a todos los elementos del arreglo, usando el valor simple como operando todas las veces:"
   ]
  },
  {
   "cell_type": "code",
   "execution_count": 32,
   "id": "7973dd5e",
   "metadata": {},
   "outputs": [
    {
     "data": {
      "text/plain": [
       "array([5.5, 2.1, 1.9, 1.1, 0.9])"
      ]
     },
     "execution_count": 32,
     "metadata": {},
     "output_type": "execute_result"
    }
   ],
   "source": [
    "a = array([55, 21, 19, 11,  9])\n",
    "# multiplicar por 0.1 todos los elementos\n",
    "0.1 * a"
   ]
  },
  {
   "cell_type": "code",
   "execution_count": 33,
   "id": "4e4b7fa7",
   "metadata": {},
   "outputs": [
    {
     "data": {
      "text/plain": [
       "array([46., 12., 10.,  2.,  0.])"
      ]
     },
     "execution_count": 33,
     "metadata": {},
     "output_type": "execute_result"
    }
   ],
   "source": [
    "# restar 9.0 a todos los elementos\n",
    "a - 9.0"
   ]
  },
  {
   "cell_type": "markdown",
   "id": "de35c714",
   "metadata": {},
   "source": [
    "Note que si quisiéramos hacer estas operaciones usando listas, necesitaríamos usar un ciclo para hacer las operaciones elemento a elemento.\n",
    "\n",
    "Las operaciones relacionales también se aplican elemento a elemento, y retornan un arreglo de valores booleanos:"
   ]
  },
  {
   "cell_type": "code",
   "execution_count": 34,
   "id": "77dccf92",
   "metadata": {},
   "outputs": [],
   "source": [
    "a = array([5.1, 2.4, 3.8, 3.9])\n",
    "b = array([4.2, 8.7, 3.9, 0.3])\n",
    "c = array([5, 2, 4, 4]) + array([1, 4, -2, -1]) / 10.0"
   ]
  },
  {
   "cell_type": "code",
   "execution_count": 35,
   "id": "cf56e1ad-b1b2-423f-966d-872976f1aea0",
   "metadata": {},
   "outputs": [
    {
     "data": {
      "text/plain": [
       "array([5.1, 2.4, 3.8, 3.9])"
      ]
     },
     "execution_count": 35,
     "metadata": {},
     "output_type": "execute_result"
    }
   ],
   "source": [
    "c"
   ]
  },
  {
   "cell_type": "code",
   "execution_count": 36,
   "id": "3cd4ba66",
   "metadata": {},
   "outputs": [
    {
     "data": {
      "text/plain": [
       "array([False,  True,  True, False])"
      ]
     },
     "execution_count": 36,
     "metadata": {},
     "output_type": "execute_result"
    }
   ],
   "source": [
    "a < b"
   ]
  },
  {
   "cell_type": "code",
   "execution_count": 37,
   "id": "c76e8bd3",
   "metadata": {},
   "outputs": [
    {
     "data": {
      "text/plain": [
       "array([ True,  True,  True,  True])"
      ]
     },
     "execution_count": 37,
     "metadata": {},
     "output_type": "execute_result"
    }
   ],
   "source": [
    "a == c"
   ]
  },
  {
   "cell_type": "markdown",
   "id": "635149c1",
   "metadata": {},
   "source": [
    "Varios arrays se pueden unir con el método np.concatenate(), que también se puede usar para añadir elementos nuevos:"
   ]
  },
  {
   "cell_type": "code",
   "execution_count": 38,
   "id": "7f7a9988-45e3-4ac1-a541-a6e66f8357b8",
   "metadata": {},
   "outputs": [
    {
     "data": {
      "text/plain": [
       "array([5.6, 7.3, 7.7, 2.3, 4.2, 9.2])"
      ]
     },
     "execution_count": 38,
     "metadata": {},
     "output_type": "execute_result"
    }
   ],
   "source": [
    "x"
   ]
  },
  {
   "cell_type": "code",
   "execution_count": 39,
   "id": "425ee6df-3401-46a7-b8c0-fb03dbf4f424",
   "metadata": {},
   "outputs": [
    {
     "data": {
      "text/plain": [
       "array([0., 1., 2., 3., 4., 5.])"
      ]
     },
     "execution_count": 39,
     "metadata": {},
     "output_type": "execute_result"
    }
   ],
   "source": [
    "decimales"
   ]
  },
  {
   "cell_type": "code",
   "execution_count": 40,
   "id": "d79e8413",
   "metadata": {},
   "outputs": [],
   "source": [
    "z = concatenate((x, decimales))"
   ]
  },
  {
   "cell_type": "code",
   "execution_count": 41,
   "id": "e79369fd",
   "metadata": {},
   "outputs": [
    {
     "name": "stdout",
     "output_type": "stream",
     "text": [
      "[5.6 7.3 7.7 2.3 4.2 9.2 0.  1.  2.  3.  4.  5. ]\n"
     ]
    }
   ],
   "source": [
    "print(z)"
   ]
  },
  {
   "cell_type": "code",
   "execution_count": 42,
   "id": "6f6e97c4-95a3-482d-8db4-f0bd6d07d338",
   "metadata": {},
   "outputs": [
    {
     "data": {
      "text/plain": [
       "array([0.])"
      ]
     },
     "execution_count": 42,
     "metadata": {},
     "output_type": "execute_result"
    }
   ],
   "source": [
    "decimales[:1]"
   ]
  },
  {
   "cell_type": "code",
   "execution_count": 43,
   "id": "07f6e510",
   "metadata": {},
   "outputs": [],
   "source": [
    "z = concatenate((x[:2], decimales[:1]))"
   ]
  },
  {
   "cell_type": "code",
   "execution_count": 44,
   "id": "4780a126",
   "metadata": {},
   "outputs": [
    {
     "name": "stdout",
     "output_type": "stream",
     "text": [
      "[5.6 7.3 0. ]\n"
     ]
    }
   ],
   "source": [
    "print(z)"
   ]
  },
  {
   "cell_type": "markdown",
   "id": "c9d965c5",
   "metadata": {},
   "source": [
    "Es importante fijarse que los arrays o listas a unir deben darse como un iterable (tupla, lista, array) como por ejemplo (x, [7]), (x, [2,4,7]) o (x, array([2,4,7]))."
   ]
  },
  {
   "cell_type": "markdown",
   "id": "f8a35884",
   "metadata": {},
   "source": [
    "Para añadir elementos, numpy tiene las funciones insert() y append(), que funcionan de manera similar a sus equivalentes en listas, pero en este caso son funciones y no métodos que se aplican a un array, si no que el array en cuestión hay que darlo como parámetro:"
   ]
  },
  {
   "cell_type": "code",
   "execution_count": 45,
   "id": "f7b8f0e9",
   "metadata": {},
   "outputs": [],
   "source": [
    "# Añadimos el elemento 100 al array z, al final\n",
    "z = append(z, 100)"
   ]
  },
  {
   "cell_type": "code",
   "execution_count": 46,
   "id": "77ebb45c-9f1e-4d49-9501-fe2de16a3e28",
   "metadata": {},
   "outputs": [
    {
     "name": "stdout",
     "output_type": "stream",
     "text": [
      "[  5.6   7.3   0.  100. ]\n"
     ]
    }
   ],
   "source": [
    "print(z)"
   ]
  },
  {
   "cell_type": "code",
   "execution_count": 47,
   "id": "8833e09c",
   "metadata": {},
   "outputs": [
    {
     "name": "stdout",
     "output_type": "stream",
     "text": [
      "[200.    5.6   7.3   0.  100. ]\n"
     ]
    }
   ],
   "source": [
    " # Añadimos el elemento 200 al array z, en el tercer puesto (índice 2)\n",
    "z = insert(z, 0, 200)\n",
    "print(z)"
   ]
  },
  {
   "cell_type": "code",
   "execution_count": 48,
   "id": "74fd428a-0c06-475d-afae-d86cbc526018",
   "metadata": {},
   "outputs": [],
   "source": [
    "z = select([z == 0.], [2], z)"
   ]
  },
  {
   "cell_type": "code",
   "execution_count": 49,
   "id": "4b9cc61d-83ea-4a30-8de3-42c7f26f6d63",
   "metadata": {},
   "outputs": [
    {
     "data": {
      "text/plain": [
       "array([200. ,   5.6,   7.3,   2. , 100. ])"
      ]
     },
     "execution_count": 49,
     "metadata": {},
     "output_type": "execute_result"
    }
   ],
   "source": [
    "z"
   ]
  },
  {
   "cell_type": "code",
   "execution_count": 50,
   "id": "0e46fe85-3318-4f84-b548-3026914948fc",
   "metadata": {},
   "outputs": [],
   "source": [
    "z = select([z == 200.,z==5.6], [0,2], z)"
   ]
  },
  {
   "cell_type": "code",
   "execution_count": 51,
   "id": "4263e247-6994-4ef4-b457-8173cec56909",
   "metadata": {},
   "outputs": [
    {
     "data": {
      "text/plain": [
       "array([  0. ,   2. ,   7.3,   2. , 100. ])"
      ]
     },
     "execution_count": 51,
     "metadata": {},
     "output_type": "execute_result"
    }
   ],
   "source": [
    "z"
   ]
  },
  {
   "cell_type": "markdown",
   "id": "291861c8",
   "metadata": {},
   "source": [
    "Como se ve, a diferencia de las listas, el primer parámetro es el array y luego el elemento que se quiere añadir, en el caso de append() y el array, la posición y luego elemento a añadir en el caso de append(). Esto se debe a que estas funciones devuelven una copia del array sin modificar el original como hacen los métodos de listas correspondientes. Si en lugar de un elemento a insertar se da una lista y otro array, añade todos los elementos de la lista (a append() habría que dar también una lista de posiciones, como segundo parámetro)."
   ]
  },
  {
   "cell_type": "code",
   "execution_count": 52,
   "id": "a5bdaf3c",
   "metadata": {},
   "outputs": [
    {
     "name": "stdout",
     "output_type": "stream",
     "text": [
      "[  0.    2.  -10.    7.3   2.  -20.  -30.  100. ]\n"
     ]
    }
   ],
   "source": [
    "# Creamos un nuevo array anhadiendo al array z,\n",
    "# los elementos -10, -20, -30 en las posiciones con indices 2, 4, -1, respectivamente\n",
    "y = np.insert(z, [2, 4, -1], [-10, -20, -30])\n",
    "print(y)"
   ]
  },
  {
   "cell_type": "markdown",
   "id": "2b8ba831",
   "metadata": {},
   "source": [
    "Además de las operaciones aritméticas básicas, los arrays de numpy tienen métodos o funciones específicas para ellas más avanzadas. Algunas de ellas son las siguientes:"
   ]
  },
  {
   "cell_type": "code",
   "execution_count": 53,
   "id": "fa642b58-4f84-45ce-aeda-a5aca329ce2a",
   "metadata": {},
   "outputs": [
    {
     "data": {
      "text/plain": [
       "array([  0. ,   2. ,   7.3,   2. , 100. ])"
      ]
     },
     "execution_count": 53,
     "metadata": {},
     "output_type": "execute_result"
    }
   ],
   "source": [
    "z"
   ]
  },
  {
   "cell_type": "code",
   "execution_count": 54,
   "id": "be7740e1",
   "metadata": {},
   "outputs": [
    {
     "data": {
      "text/plain": [
       "100.0"
      ]
     },
     "execution_count": 54,
     "metadata": {},
     "output_type": "execute_result"
    }
   ],
   "source": [
    "z.max()   # Valor máximo de los elementos del array"
   ]
  },
  {
   "cell_type": "code",
   "execution_count": 55,
   "id": "25171e2f",
   "metadata": {},
   "outputs": [
    {
     "data": {
      "text/plain": [
       "0.0"
      ]
     },
     "execution_count": 55,
     "metadata": {},
     "output_type": "execute_result"
    }
   ],
   "source": [
    "z.min()   # Valor mínimo de los elementos del array"
   ]
  },
  {
   "cell_type": "code",
   "execution_count": 56,
   "id": "0ba23a42",
   "metadata": {},
   "outputs": [
    {
     "data": {
      "text/plain": [
       "0"
      ]
     },
     "execution_count": 56,
     "metadata": {},
     "output_type": "execute_result"
    }
   ],
   "source": [
    "z.argmin() # la posición del mínimo"
   ]
  },
  {
   "cell_type": "code",
   "execution_count": 57,
   "id": "f7bf4e35",
   "metadata": {},
   "outputs": [
    {
     "data": {
      "text/plain": [
       "4"
      ]
     },
     "execution_count": 57,
     "metadata": {},
     "output_type": "execute_result"
    }
   ],
   "source": [
    "z.argmax() # la posición del máximo"
   ]
  },
  {
   "cell_type": "code",
   "execution_count": 58,
   "id": "1e6d5291",
   "metadata": {},
   "outputs": [
    {
     "data": {
      "text/plain": [
       "22.259999999999998"
      ]
     },
     "execution_count": 58,
     "metadata": {},
     "output_type": "execute_result"
    }
   ],
   "source": [
    "z.mean()  # Valor medio de los elementos del array"
   ]
  },
  {
   "cell_type": "code",
   "execution_count": 59,
   "id": "8dc2bf35",
   "metadata": {},
   "outputs": [
    {
     "data": {
      "text/plain": [
       "38.94547984041281"
      ]
     },
     "execution_count": 59,
     "metadata": {},
     "output_type": "execute_result"
    }
   ],
   "source": [
    "z.std()   # Desviación típica de los elementos del array"
   ]
  },
  {
   "cell_type": "code",
   "execution_count": 60,
   "id": "8c376c9b",
   "metadata": {},
   "outputs": [
    {
     "data": {
      "text/plain": [
       "111.3"
      ]
     },
     "execution_count": 60,
     "metadata": {},
     "output_type": "execute_result"
    }
   ],
   "source": [
    "z.sum()   # Suma de todos los elementos del array"
   ]
  },
  {
   "cell_type": "code",
   "execution_count": 61,
   "id": "e60eea6a",
   "metadata": {},
   "outputs": [
    {
     "data": {
      "text/plain": [
       "22.259999999999998"
      ]
     },
     "execution_count": 61,
     "metadata": {},
     "output_type": "execute_result"
    }
   ],
   "source": [
    "mean(z) # Mediana de los elementos del array"
   ]
  },
  {
   "cell_type": "code",
   "execution_count": 62,
   "id": "3304314a-1609-4c06-bd05-7edb31177031",
   "metadata": {},
   "outputs": [
    {
     "data": {
      "text/plain": [
       "2.0"
      ]
     },
     "execution_count": 62,
     "metadata": {},
     "output_type": "execute_result"
    }
   ],
   "source": [
    "median(z)"
   ]
  },
  {
   "cell_type": "markdown",
   "id": "21749527",
   "metadata": {},
   "source": [
    "Los métodos, que se operan de la forma z.sum() también pueden usarse como funciones de tipo sum(z), etc. Consultar el manual de numpy para conocer otras propiedades y métodos de los arrays o simplemente ver la “ayuda” de las funciones que quieran utilizar.\n",
    "\n",
    "Una gran utilidad de los arrays es la posibilidad de usarlos con datos booleanos (True o False) y operar entre ellos o incluso usarlos con arrays con números. Veamos algunos ejemplos:"
   ]
  },
  {
   "cell_type": "code",
   "execution_count": 63,
   "id": "e93cd73d",
   "metadata": {},
   "outputs": [],
   "source": [
    "A = array([True, False, True])\n",
    "B = array([False, False, True])"
   ]
  },
  {
   "cell_type": "code",
   "execution_count": 64,
   "id": "02636372",
   "metadata": {},
   "outputs": [
    {
     "data": {
      "text/plain": [
       "array([False, False,  True])"
      ]
     },
     "execution_count": 64,
     "metadata": {},
     "output_type": "execute_result"
    }
   ],
   "source": [
    "A*B"
   ]
  },
  {
   "cell_type": "code",
   "execution_count": 65,
   "id": "3597e59d",
   "metadata": {},
   "outputs": [],
   "source": [
    "C = array([1, 2, 3])"
   ]
  },
  {
   "cell_type": "code",
   "execution_count": 66,
   "id": "b9961184",
   "metadata": {},
   "outputs": [
    {
     "data": {
      "text/plain": [
       "array([1, 0, 3])"
      ]
     },
     "execution_count": 66,
     "metadata": {},
     "output_type": "execute_result"
    }
   ],
   "source": [
    "A*C"
   ]
  },
  {
   "cell_type": "code",
   "execution_count": 67,
   "id": "d52a4aad",
   "metadata": {},
   "outputs": [
    {
     "data": {
      "text/plain": [
       "array([0, 0, 3])"
      ]
     },
     "execution_count": 67,
     "metadata": {},
     "output_type": "execute_result"
    }
   ],
   "source": [
    "B*C"
   ]
  },
  {
   "cell_type": "markdown",
   "id": "6e9666a0",
   "metadata": {},
   "source": [
    "En este ejemplo vemos cómo al multiplicar dos arrays booleanos es resultado es otro array booleano con el resultado que corresponda, pero al multiplicar los arrays booleanos con arrays numéricos, el resultado es un array numérico con los mismos elementos, pero con los elementos que fueron multiplicados por False iguales a cero.\n",
    "\n",
    "Tambíén es posible usar los arrays como índices de otro array y como índices se pueden usar arrays numéricos o booleanos. El resultado será en este caso un array con los elementos que se indique en el array de índices numérico o los elementos correspondientes a True en caso de usar un array de índices booleano. Veámoslo con un ejemplo:"
   ]
  },
  {
   "cell_type": "code",
   "execution_count": 68,
   "id": "28edda9b",
   "metadata": {},
   "outputs": [
    {
     "name": "stdout",
     "output_type": "stream",
     "text": [
      "[ 0 10 20 30 40 50 60 70 80 90]\n"
     ]
    }
   ],
   "source": [
    "# Array con enteros de 0 a 9\n",
    "mi_array = arange(0, 100, 10)\n",
    "print(mi_array)"
   ]
  },
  {
   "cell_type": "code",
   "execution_count": 69,
   "id": "539ea913-c89a-4b16-b6b4-b84187ae90f5",
   "metadata": {},
   "outputs": [
    {
     "name": "stdout",
     "output_type": "stream",
     "text": [
      "[0 2 4 6 8]\n"
     ]
    }
   ],
   "source": [
    "# Array de índices numericos con numeros de 0-9 de 2 en 2\n",
    "indices1 = np.arange(0, 10, 2)\n",
    "print(indices1)"
   ]
  },
  {
   "cell_type": "code",
   "execution_count": 70,
   "id": "a15801bb-23e5-419b-971f-3df3e209f812",
   "metadata": {},
   "outputs": [],
   "source": [
    "# Array de índices booleanos\n",
    "indices2 = np.array([False, True, True, False, False, True, False, False, True, True])"
   ]
  },
  {
   "cell_type": "code",
   "execution_count": 71,
   "id": "5aaf415e",
   "metadata": {},
   "outputs": [
    {
     "name": "stdout",
     "output_type": "stream",
     "text": [
      "[ 0 10 20 30 40 50 60 70 80 90]\n",
      "[ 0 20 40 60 80]\n",
      "[10 20 50 80 90]\n"
     ]
    }
   ],
   "source": [
    "print(mi_array)\n",
    "\n",
    "print(mi_array[indices1])\n",
    "\n",
    "print(mi_array[indices2])"
   ]
  },
  {
   "cell_type": "markdown",
   "id": "d31fb293",
   "metadata": {},
   "source": [
    "También es muy sencillo y más práctico crear arrays booleanos usando operadores lógicos y luego usalos como índices, por ejemplo:"
   ]
  },
  {
   "cell_type": "code",
   "execution_count": 72,
   "id": "6518d735-c972-48c0-a626-5f9dfb6c3cf1",
   "metadata": {},
   "outputs": [
    {
     "name": "stdout",
     "output_type": "stream",
     "text": [
      "[ 0 10 20 30 40 50 60 70 80 90]\n"
     ]
    }
   ],
   "source": [
    "print(mi_array)"
   ]
  },
  {
   "cell_type": "code",
   "execution_count": 73,
   "id": "e71dc51a",
   "metadata": {},
   "outputs": [],
   "source": [
    "# Creamos un array usando un operador booleano\n",
    "mayores50 = mi_array > 80"
   ]
  },
  {
   "cell_type": "code",
   "execution_count": 74,
   "id": "6013134a",
   "metadata": {},
   "outputs": [
    {
     "name": "stdout",
     "output_type": "stream",
     "text": [
      "[False False False False False False False False False  True]\n"
     ]
    }
   ],
   "source": [
    "print(mayores50)"
   ]
  },
  {
   "cell_type": "code",
   "execution_count": 75,
   "id": "524fd133",
   "metadata": {},
   "outputs": [
    {
     "name": "stdout",
     "output_type": "stream",
     "text": [
      "[90]\n"
     ]
    }
   ],
   "source": [
    "# Lo utilizamos como índices para seleccionar los que cumplen esa condición\n",
    "print(mi_array[mayores50])"
   ]
  },
  {
   "cell_type": "markdown",
   "id": "1371ff4b",
   "metadata": {},
   "source": [
    "## Arrays multidimensionales"
   ]
  },
  {
   "cell_type": "markdown",
   "id": "9400e780",
   "metadata": {},
   "source": [
    "Hasta ahora sólo hemos trabajado con arrays con una sola dimensión, pero numpy permite trabajar con arrays de más dimensiones. Un array de dos dimensiones podría ser por ejemplo un array que tuviera como elementos un sistema de ecuaciones o una imagen. Para crearlos podemos hacerlo declarándolos directamente o mediante funciones como np.zeros() o np.ones() dando como parámetro una tupla con la forma del array final que queramos; o también usando np.arange() y crear un array unidimensional y luego cambiar su forma. Veamos algunos ejemplos:"
   ]
  },
  {
   "cell_type": "code",
   "execution_count": 76,
   "id": "9e3794b9",
   "metadata": {},
   "outputs": [
    {
     "name": "stdout",
     "output_type": "stream",
     "text": [
      "[[ 10  20  30]\n",
      " [  9  99 999]\n",
      " [  0   2   3]]\n"
     ]
    }
   ],
   "source": [
    "# Array de 3 filas y tres columnas, creado implícitamente\n",
    "arr0 = array([[10,20,30],[9, 99, 999],[0, 2, 3]])\n",
    "print(arr0)"
   ]
  },
  {
   "cell_type": "code",
   "execution_count": 77,
   "id": "82236f82",
   "metadata": {},
   "outputs": [
    {
     "name": "stdout",
     "output_type": "stream",
     "text": [
      "[[0. 0. 0.]\n",
      " [0. 0. 0.]]\n"
     ]
    }
   ],
   "source": [
    "# Array de ceros con 2 filas y 3 columnas\n",
    "arr1 = zeros((2,3))\n",
    "print(arr1)"
   ]
  },
  {
   "cell_type": "code",
   "execution_count": 78,
   "id": "5bbf4b4a",
   "metadata": {},
   "outputs": [
    {
     "name": "stdout",
     "output_type": "stream",
     "text": [
      "[[1.]\n",
      " [1.]\n",
      " [1.]\n",
      " [1.]]\n"
     ]
    }
   ],
   "source": [
    "# Array de unos con 4 filas y una columna\n",
    "arr2 = ones((4,1))\n",
    "print(arr2)"
   ]
  },
  {
   "cell_type": "code",
   "execution_count": 79,
   "id": "6c106141-72c4-4ee9-a962-5cd455686782",
   "metadata": {},
   "outputs": [
    {
     "data": {
      "text/plain": [
       "array([0, 1, 2, 3, 4, 5, 6, 7, 8])"
      ]
     },
     "execution_count": 79,
     "metadata": {},
     "output_type": "execute_result"
    }
   ],
   "source": [
    "arange(9)"
   ]
  },
  {
   "cell_type": "code",
   "execution_count": 80,
   "id": "d86bbf94",
   "metadata": {},
   "outputs": [
    {
     "name": "stdout",
     "output_type": "stream",
     "text": [
      "[[0 1 2]\n",
      " [3 4 5]\n",
      " [6 7 8]]\n"
     ]
    }
   ],
   "source": [
    "# Array unidimensional de 9 elementos y cambio su forma a 3x3\n",
    "arr3 = arange(9).reshape((3, 3))\n",
    "print(arr3)"
   ]
  },
  {
   "cell_type": "code",
   "execution_count": 81,
   "id": "6eca73a1",
   "metadata": {},
   "outputs": [
    {
     "data": {
      "text/plain": [
       "(2, 3)"
      ]
     },
     "execution_count": 81,
     "metadata": {},
     "output_type": "execute_result"
    }
   ],
   "source": [
    "arr1.shape"
   ]
  },
  {
   "cell_type": "code",
   "execution_count": 82,
   "id": "dee03038-ec24-4110-b647-dbfdf7a0427d",
   "metadata": {},
   "outputs": [
    {
     "data": {
      "text/plain": [
       "2"
      ]
     },
     "execution_count": 82,
     "metadata": {},
     "output_type": "execute_result"
    }
   ],
   "source": [
    "len(arr1)"
   ]
  },
  {
   "cell_type": "markdown",
   "id": "009a9c62",
   "metadata": {},
   "source": [
    "Como vemos en la última línea, la forma o shape() de los arrays se sigue dando como una tupla, con la dimensión de cada eje separado por comas; en ese caso la primera dimensión son las cuatro filas y la segunda dimensión o eje es una columna. Es por eso que al usar las funciones zeros(), ones(), reshape(), etc. hay que asegurarse que el parámetro de entrada es una tupla con la longitud de cada eje. Cuando usamos la función len() en un array bidimensional, el resultado es la longitud del primer eje o dimensión, es decir, len(arr2) es 4.\n",
    "\n",
    "El acceso a los elementos es el habitual, pero ahora hay que tener en cuenta el eje al que nos referimos; además podemos utilizar ”:” como comodín para referirnos a todo el eje. Por ejemplo:"
   ]
  },
  {
   "cell_type": "code",
   "execution_count": 83,
   "id": "ad55280d-960a-4e86-93f7-b93cbec43ec3",
   "metadata": {},
   "outputs": [
    {
     "data": {
      "text/plain": [
       "array([[ 10,  20,  30],\n",
       "       [  9,  99, 999],\n",
       "       [  0,   2,   3]])"
      ]
     },
     "execution_count": 83,
     "metadata": {},
     "output_type": "execute_result"
    }
   ],
   "source": [
    "arr0"
   ]
  },
  {
   "cell_type": "code",
   "execution_count": 84,
   "id": "8f3c93e0",
   "metadata": {},
   "outputs": [
    {
     "data": {
      "text/plain": [
       "10"
      ]
     },
     "execution_count": 84,
     "metadata": {},
     "output_type": "execute_result"
    }
   ],
   "source": [
    "# Primer elemento de la primera fila y primera columna (0,0)\n",
    "arr0[0,0]"
   ]
  },
  {
   "cell_type": "code",
   "execution_count": 85,
   "id": "e8cfe00b",
   "metadata": {},
   "outputs": [
    {
     "data": {
      "text/plain": [
       "array([10,  9,  0])"
      ]
     },
     "execution_count": 85,
     "metadata": {},
     "output_type": "execute_result"
    }
   ],
   "source": [
    "# Primera columna\n",
    "arr0[:,0]"
   ]
  },
  {
   "cell_type": "code",
   "execution_count": 86,
   "id": "11826a9f",
   "metadata": {},
   "outputs": [
    {
     "data": {
      "text/plain": [
       "array([10, 20, 30])"
      ]
     },
     "execution_count": 86,
     "metadata": {},
     "output_type": "execute_result"
    }
   ],
   "source": [
    "# Primera fila\n",
    "arr0[0,:]"
   ]
  },
  {
   "cell_type": "code",
   "execution_count": 87,
   "id": "0920e4d9",
   "metadata": {},
   "outputs": [
    {
     "data": {
      "text/plain": [
       "array([10, 20])"
      ]
     },
     "execution_count": 87,
     "metadata": {},
     "output_type": "execute_result"
    }
   ],
   "source": [
    "# Elementos 0 y 1 de la primera fila\n",
    "arr0[0,:2]"
   ]
  },
  {
   "cell_type": "markdown",
   "id": "f4653743",
   "metadata": {},
   "source": [
    "Igualmente podemos modificar un array bidimensional usando sus índices:"
   ]
  },
  {
   "cell_type": "code",
   "execution_count": 88,
   "id": "7bf02d59",
   "metadata": {},
   "outputs": [
    {
     "data": {
      "text/plain": [
       "array([[ 88,  20,  30],\n",
       "       [  9,  99, 999],\n",
       "       [  0,   2,   3]])"
      ]
     },
     "execution_count": 88,
     "metadata": {},
     "output_type": "execute_result"
    }
   ],
   "source": [
    "# Asignamos el primer elemento a 88\n",
    "arr0[0, 0] = 88\n",
    "arr0"
   ]
  },
  {
   "cell_type": "code",
   "execution_count": 89,
   "id": "6563c76a-c50f-4890-90a5-6b97a3b79d66",
   "metadata": {},
   "outputs": [
    {
     "data": {
      "text/plain": [
       "array([[ 88,  20,  30],\n",
       "       [ 50,  60, 999],\n",
       "       [  0,   2,   3]])"
      ]
     },
     "execution_count": 89,
     "metadata": {},
     "output_type": "execute_result"
    }
   ],
   "source": [
    "# Asignamos elementos 0 y 1 de la segunda fila\n",
    "arr0[1, :2] = [50,60]\n",
    "arr0"
   ]
  },
  {
   "cell_type": "code",
   "execution_count": 90,
   "id": "1a74630e-acda-47ed-a914-d5dff36e4b52",
   "metadata": {},
   "outputs": [],
   "source": [
    "# Multiplicamos por 10 la última fila\n",
    "arr0[-1, :] = arr0[-1, :]*10"
   ]
  },
  {
   "cell_type": "code",
   "execution_count": 91,
   "id": "a0b1d6e9",
   "metadata": {},
   "outputs": [
    {
     "name": "stdout",
     "output_type": "stream",
     "text": [
      "[[ 88  20  30]\n",
      " [ 50  60 999]\n",
      " [  0  20  30]]\n"
     ]
    }
   ],
   "source": [
    "print(arr0)"
   ]
  },
  {
   "cell_type": "code",
   "execution_count": 92,
   "id": "c63daa71-51ba-4cbd-a9e5-d6429826c7d2",
   "metadata": {},
   "outputs": [
    {
     "data": {
      "text/plain": [
       "array([0., 1., 3., 4.])"
      ]
     },
     "execution_count": 92,
     "metadata": {},
     "output_type": "execute_result"
    }
   ],
   "source": [
    "arre=array([0.,1.,3.,4.])\n",
    "arre"
   ]
  },
  {
   "cell_type": "code",
   "execution_count": 93,
   "id": "7413aa90-34d5-4b19-a02e-ebdaacb1115b",
   "metadata": {},
   "outputs": [
    {
     "data": {
      "text/plain": [
       "array([ 0., 25.,  3.,  4.])"
      ]
     },
     "execution_count": 93,
     "metadata": {},
     "output_type": "execute_result"
    }
   ],
   "source": [
    "arre[1]=25\n",
    "arre"
   ]
  },
  {
   "cell_type": "markdown",
   "id": "af534dc8",
   "metadata": {},
   "source": [
    "## Cambiando el tamaño de arrays"
   ]
  },
  {
   "cell_type": "markdown",
   "id": "be2f4c4c",
   "metadata": {},
   "source": [
    "Hemos visto que es fácil quitar y poner elementos nuevos en un array unidimensional. Pero con dos o más dimensiones es algo más complicado porque estamos limitados a la estructura y número de elementos del array. Podemos cambiar la forma (shape) de un array a otra que tenga el mismo número de elementos fácilmente usado reshape():"
   ]
  },
  {
   "cell_type": "code",
   "execution_count": 94,
   "id": "53f119c5",
   "metadata": {},
   "outputs": [
    {
     "data": {
      "text/plain": [
       "array([[   0,    1,    2, ...,   97,   98,   99],\n",
       "       [ 100,  101,  102, ...,  197,  198,  199],\n",
       "       [ 200,  201,  202, ...,  297,  298,  299],\n",
       "       ...,\n",
       "       [9700, 9701, 9702, ..., 9797, 9798, 9799],\n",
       "       [9800, 9801, 9802, ..., 9897, 9898, 9899],\n",
       "       [9900, 9901, 9902, ..., 9997, 9998, 9999]])"
      ]
     },
     "execution_count": 94,
     "metadata": {},
     "output_type": "execute_result"
    }
   ],
   "source": [
    "numeros = arange(10000)  # Array unidimensional de 10000 numeros\n",
    "numeros_2D = numeros.reshape((100, 100))\n",
    "numeros_2D"
   ]
  },
  {
   "cell_type": "code",
   "execution_count": 95,
   "id": "315a8de8-ec6e-495f-b72b-039a1f38cd12",
   "metadata": {},
   "outputs": [
    {
     "data": {
      "text/plain": [
       "array([[[   0,    1,    2, ...,    7,    8,    9],\n",
       "        [  10,   11,   12, ...,   17,   18,   19],\n",
       "        [  20,   21,   22, ...,   27,   28,   29],\n",
       "        ...,\n",
       "        [  70,   71,   72, ...,   77,   78,   79],\n",
       "        [  80,   81,   82, ...,   87,   88,   89],\n",
       "        [  90,   91,   92, ...,   97,   98,   99]],\n",
       "\n",
       "       [[ 100,  101,  102, ...,  107,  108,  109],\n",
       "        [ 110,  111,  112, ...,  117,  118,  119],\n",
       "        [ 120,  121,  122, ...,  127,  128,  129],\n",
       "        ...,\n",
       "        [ 170,  171,  172, ...,  177,  178,  179],\n",
       "        [ 180,  181,  182, ...,  187,  188,  189],\n",
       "        [ 190,  191,  192, ...,  197,  198,  199]],\n",
       "\n",
       "       [[ 200,  201,  202, ...,  207,  208,  209],\n",
       "        [ 210,  211,  212, ...,  217,  218,  219],\n",
       "        [ 220,  221,  222, ...,  227,  228,  229],\n",
       "        ...,\n",
       "        [ 270,  271,  272, ...,  277,  278,  279],\n",
       "        [ 280,  281,  282, ...,  287,  288,  289],\n",
       "        [ 290,  291,  292, ...,  297,  298,  299]],\n",
       "\n",
       "       ...,\n",
       "\n",
       "       [[9700, 9701, 9702, ..., 9707, 9708, 9709],\n",
       "        [9710, 9711, 9712, ..., 9717, 9718, 9719],\n",
       "        [9720, 9721, 9722, ..., 9727, 9728, 9729],\n",
       "        ...,\n",
       "        [9770, 9771, 9772, ..., 9777, 9778, 9779],\n",
       "        [9780, 9781, 9782, ..., 9787, 9788, 9789],\n",
       "        [9790, 9791, 9792, ..., 9797, 9798, 9799]],\n",
       "\n",
       "       [[9800, 9801, 9802, ..., 9807, 9808, 9809],\n",
       "        [9810, 9811, 9812, ..., 9817, 9818, 9819],\n",
       "        [9820, 9821, 9822, ..., 9827, 9828, 9829],\n",
       "        ...,\n",
       "        [9870, 9871, 9872, ..., 9877, 9878, 9879],\n",
       "        [9880, 9881, 9882, ..., 9887, 9888, 9889],\n",
       "        [9890, 9891, 9892, ..., 9897, 9898, 9899]],\n",
       "\n",
       "       [[9900, 9901, 9902, ..., 9907, 9908, 9909],\n",
       "        [9910, 9911, 9912, ..., 9917, 9918, 9919],\n",
       "        [9920, 9921, 9922, ..., 9927, 9928, 9929],\n",
       "        ...,\n",
       "        [9970, 9971, 9972, ..., 9977, 9978, 9979],\n",
       "        [9980, 9981, 9982, ..., 9987, 9988, 9989],\n",
       "        [9990, 9991, 9992, ..., 9997, 9998, 9999]]])"
      ]
     },
     "execution_count": 95,
     "metadata": {},
     "output_type": "execute_result"
    }
   ],
   "source": [
    "numeros_3D = numeros.reshape((100, 10, 10))\n",
    "numeros_3D"
   ]
  },
  {
   "cell_type": "code",
   "execution_count": 96,
   "id": "fd78cf34",
   "metadata": {},
   "outputs": [
    {
     "data": {
      "text/plain": [
       "(10000,)"
      ]
     },
     "execution_count": 96,
     "metadata": {},
     "output_type": "execute_result"
    }
   ],
   "source": [
    "numeros.shape"
   ]
  },
  {
   "cell_type": "code",
   "execution_count": 97,
   "id": "a1ac6bf4",
   "metadata": {},
   "outputs": [
    {
     "data": {
      "text/plain": [
       "(100, 100)"
      ]
     },
     "execution_count": 97,
     "metadata": {},
     "output_type": "execute_result"
    }
   ],
   "source": [
    "numeros_2D.shape"
   ]
  },
  {
   "cell_type": "code",
   "execution_count": 98,
   "id": "2470574f",
   "metadata": {},
   "outputs": [
    {
     "data": {
      "text/plain": [
       "(100, 10, 10)"
      ]
     },
     "execution_count": 98,
     "metadata": {},
     "output_type": "execute_result"
    }
   ],
   "source": [
    "numeros_3D.shape"
   ]
  },
  {
   "cell_type": "markdown",
   "id": "0914c2a9",
   "metadata": {},
   "source": [
    "Para añadir más filas o columnas a un array, la forma más efectiva en crear un array nuevo con la forma deseada y luego añadir las filas o columnas, por ejemplo:"
   ]
  },
  {
   "cell_type": "code",
   "execution_count": 99,
   "id": "ef629d33",
   "metadata": {},
   "outputs": [
    {
     "data": {
      "text/plain": [
       "array([0, 1, 2, 3, 4, 5, 6, 7, 8, 9])"
      ]
     },
     "execution_count": 99,
     "metadata": {},
     "output_type": "execute_result"
    }
   ],
   "source": [
    "A = arange(0, 10)\n",
    "\n",
    "B = arange(100, 1100, 100)\n",
    "A"
   ]
  },
  {
   "cell_type": "code",
   "execution_count": 100,
   "id": "4ef7d7cb-69ea-405d-bf13-def57ab9bcfd",
   "metadata": {},
   "outputs": [
    {
     "data": {
      "text/plain": [
       "array([ 100,  200,  300,  400,  500,  600,  700,  800,  900, 1000])"
      ]
     },
     "execution_count": 100,
     "metadata": {},
     "output_type": "execute_result"
    }
   ],
   "source": [
    "B"
   ]
  },
  {
   "cell_type": "code",
   "execution_count": 101,
   "id": "92ccd44b-ef69-4ad3-8ea7-549fdc480de8",
   "metadata": {},
   "outputs": [
    {
     "data": {
      "text/plain": [
       "array([[0., 0.],\n",
       "       [0., 0.],\n",
       "       [0., 0.],\n",
       "       [0., 0.],\n",
       "       [0., 0.],\n",
       "       [0., 0.],\n",
       "       [0., 0.],\n",
       "       [0., 0.],\n",
       "       [0., 0.],\n",
       "       [0., 0.]])"
      ]
     },
     "execution_count": 101,
     "metadata": {},
     "output_type": "execute_result"
    }
   ],
   "source": [
    "C = zeros((len(A), 2))  # 10 filas, dos columnas\n",
    "C"
   ]
  },
  {
   "cell_type": "code",
   "execution_count": 102,
   "id": "8cf2d454-c142-40ac-9a5d-e74de3f9d4c7",
   "metadata": {},
   "outputs": [
    {
     "data": {
      "text/plain": [
       "array([[0., 0.],\n",
       "       [1., 0.],\n",
       "       [2., 0.],\n",
       "       [3., 0.],\n",
       "       [4., 0.],\n",
       "       [5., 0.],\n",
       "       [6., 0.],\n",
       "       [7., 0.],\n",
       "       [8., 0.],\n",
       "       [9., 0.]])"
      ]
     },
     "execution_count": 102,
     "metadata": {},
     "output_type": "execute_result"
    }
   ],
   "source": [
    "C[:,0] = A\n",
    "C"
   ]
  },
  {
   "cell_type": "code",
   "execution_count": 103,
   "id": "d906dee9-2201-4a38-b9e3-cfe126bb22ef",
   "metadata": {},
   "outputs": [
    {
     "data": {
      "text/plain": [
       "array([[   0.,  100.],\n",
       "       [   1.,  200.],\n",
       "       [   2.,  300.],\n",
       "       [   3.,  400.],\n",
       "       [   4.,  500.],\n",
       "       [   5.,  600.],\n",
       "       [   6.,  700.],\n",
       "       [   7.,  800.],\n",
       "       [   8.,  900.],\n",
       "       [   9., 1000.]])"
      ]
     },
     "execution_count": 103,
     "metadata": {},
     "output_type": "execute_result"
    }
   ],
   "source": [
    "C[:,1] = B\n",
    "C"
   ]
  },
  {
   "cell_type": "code",
   "execution_count": 104,
   "id": "75eb03b4-ced6-41fc-a17b-aa85adbb866d",
   "metadata": {},
   "outputs": [
    {
     "data": {
      "text/plain": [
       "array([[   0.,  100.],\n",
       "       [   1.,  200.],\n",
       "       [   2.,  300.],\n",
       "       [   3.,  400.],\n",
       "       [   4.,  500.],\n",
       "       [   5.,  600.],\n",
       "       [   6.,  700.],\n",
       "       [   7.,  800.],\n",
       "       [   8.,  900.],\n",
       "       [   9., 1000.]])"
      ]
     },
     "execution_count": 104,
     "metadata": {},
     "output_type": "execute_result"
    }
   ],
   "source": [
    "C"
   ]
  },
  {
   "cell_type": "markdown",
   "id": "e3e2c877",
   "metadata": {},
   "source": [
    "Existen otros métodos de manipulación de la forma de los arrays como hstack(), vstack() o tile() entre otras."
   ]
  },
  {
   "cell_type": "markdown",
   "id": "6c72a90a",
   "metadata": {},
   "source": [
    "## Filtros y máscaras de arrays. Arrays enmascarado"
   ]
  },
  {
   "cell_type": "markdown",
   "id": "e09d5b31",
   "metadata": {},
   "source": [
    "Una de las mejores utilidades de numpy es trabajar con índices y máscaras de datos para limitar o seleccionar parte de los datos. Supongamos que tenemos un array de datos, pero que solo nos interesa los positivos, que queremos manipular después. Hay varias formas de seleccionarlos definiendo un array máscara con la condición que nos interesa:"
   ]
  },
  {
   "cell_type": "code",
   "execution_count": 105,
   "id": "6c9a720a",
   "metadata": {},
   "outputs": [],
   "source": [
    "datos = array([3, 7, -2, 6, 7, -8, 11, -1, -2, 8])"
   ]
  },
  {
   "cell_type": "code",
   "execution_count": 106,
   "id": "0196a342",
   "metadata": {},
   "outputs": [
    {
     "data": {
      "text/plain": [
       "array([ 3,  7, -2,  6,  7, -8, 11, -1, -2,  8])"
      ]
     },
     "execution_count": 106,
     "metadata": {},
     "output_type": "execute_result"
    }
   ],
   "source": [
    "datos"
   ]
  },
  {
   "cell_type": "code",
   "execution_count": 107,
   "id": "a8a74e2c",
   "metadata": {},
   "outputs": [],
   "source": [
    "mask = datos >= 0"
   ]
  },
  {
   "cell_type": "code",
   "execution_count": 108,
   "id": "9606460f",
   "metadata": {},
   "outputs": [
    {
     "data": {
      "text/plain": [
       "array([ True,  True, False,  True,  True, False,  True, False, False,\n",
       "        True])"
      ]
     },
     "execution_count": 108,
     "metadata": {},
     "output_type": "execute_result"
    }
   ],
   "source": [
    "mask"
   ]
  },
  {
   "cell_type": "code",
   "execution_count": 109,
   "id": "175ed334",
   "metadata": {},
   "outputs": [
    {
     "data": {
      "text/plain": [
       "array([ 3,  7,  0,  6,  7,  0, 11,  0,  0,  8])"
      ]
     },
     "execution_count": 109,
     "metadata": {},
     "output_type": "execute_result"
    }
   ],
   "source": [
    "datos*mask"
   ]
  },
  {
   "cell_type": "code",
   "execution_count": 110,
   "id": "12e0dd6e",
   "metadata": {},
   "outputs": [
    {
     "data": {
      "text/plain": [
       "array([ 3,  7,  6,  7, 11,  8])"
      ]
     },
     "execution_count": 110,
     "metadata": {},
     "output_type": "execute_result"
    }
   ],
   "source": [
    "datos[mask]"
   ]
  },
  {
   "cell_type": "markdown",
   "id": "65d5e9d6",
   "metadata": {},
   "source": [
    "Usando un array mask de booleanos, podemos operar con el el array de datos, cuando un valor se multiplica por True es equivalente a multiplicarse por 1 y si es con False, a multiplicarse por 0. Por eso el resultado es un array del mismo tamaño, pero los elementos que no cumplen la condición se hacen 0.\n",
    "\n",
    "Si por el contrario usarmos usamos mask como un array de índices, el resultado es un array con los elementos cuyo índice corresponda con True, ignorando los de índice False. Usaremos uno u otro según lo que queramos hacer, el truco consiste es crear de manera correcta la máscara de datos.\n",
    "\n",
    "Veamos el caso de un array 2D con dos columnas, pero queremos limitar todos los datos en criterios en las dos columnas. Primero creamos una máscara como producto de las dos condiciones, y luego la usamos como array de índices en el array original:"
   ]
  },
  {
   "cell_type": "code",
   "execution_count": 111,
   "id": "63dd8c68",
   "metadata": {},
   "outputs": [],
   "source": [
    "from numpy import random\n",
    "\n",
    "datos2 = random.randint(-10, 20, (10,2))"
   ]
  },
  {
   "cell_type": "code",
   "execution_count": 112,
   "id": "c04ba90d",
   "metadata": {},
   "outputs": [
    {
     "data": {
      "text/plain": [
       "array([[-1, 16],\n",
       "       [10,  2],\n",
       "       [ 2, -4],\n",
       "       [-5, 13],\n",
       "       [13, 17],\n",
       "       [ 9, 15],\n",
       "       [ 3,  2],\n",
       "       [-2, 19],\n",
       "       [-6, -5],\n",
       "       [-9, -3]])"
      ]
     },
     "execution_count": 112,
     "metadata": {},
     "output_type": "execute_result"
    }
   ],
   "source": [
    "datos2"
   ]
  },
  {
   "cell_type": "code",
   "execution_count": 113,
   "id": "23999d56",
   "metadata": {},
   "outputs": [
    {
     "data": {
      "text/plain": [
       "array([False,  True,  True, False,  True,  True,  True, False, False,\n",
       "       False])"
      ]
     },
     "execution_count": 113,
     "metadata": {},
     "output_type": "execute_result"
    }
   ],
   "source": [
    "# Solo queremos los datos que el la columna 0 sean mayores\n",
    "# que 0 pero menores que 10 en la columna 1\n",
    "condicion1 = datos2[:,0] > 0\n",
    "condicion1"
   ]
  },
  {
   "cell_type": "code",
   "execution_count": 114,
   "id": "3d557dd7-2d49-4821-b0cf-50aa9b9b9e46",
   "metadata": {},
   "outputs": [
    {
     "data": {
      "text/plain": [
       "array([False,  True,  True, False, False, False,  True, False,  True,\n",
       "        True])"
      ]
     },
     "execution_count": 114,
     "metadata": {},
     "output_type": "execute_result"
    }
   ],
   "source": [
    "condicion2 = datos2[:,1] < 10\n",
    "condicion2"
   ]
  },
  {
   "cell_type": "code",
   "execution_count": 115,
   "id": "ea94ff78-99be-4535-afba-4c6748592f00",
   "metadata": {},
   "outputs": [],
   "source": [
    "mask_col0 = condicion1+condicion2"
   ]
  },
  {
   "cell_type": "code",
   "execution_count": 116,
   "id": "fa432e05",
   "metadata": {},
   "outputs": [
    {
     "data": {
      "text/plain": [
       "array([False,  True,  True, False,  True,  True,  True, False,  True,\n",
       "        True])"
      ]
     },
     "execution_count": 116,
     "metadata": {},
     "output_type": "execute_result"
    }
   ],
   "source": [
    "mask_col0"
   ]
  },
  {
   "cell_type": "code",
   "execution_count": 117,
   "id": "157ae518",
   "metadata": {},
   "outputs": [
    {
     "data": {
      "text/plain": [
       "array([[10,  2],\n",
       "       [ 2, -4],\n",
       "       [13, 17],\n",
       "       [ 9, 15],\n",
       "       [ 3,  2],\n",
       "       [-6, -5],\n",
       "       [-9, -3]])"
      ]
     },
     "execution_count": 117,
     "metadata": {},
     "output_type": "execute_result"
    }
   ],
   "source": [
    "datos2[mask_col0]"
   ]
  },
  {
   "cell_type": "code",
   "execution_count": 3,
   "id": "abdc54ee-eda4-4f3c-bdef-44360b3b0208",
   "metadata": {},
   "outputs": [
    {
     "ename": "NameError",
     "evalue": "name 'datos2' is not defined",
     "output_type": "error",
     "traceback": [
      "\u001b[1;31m---------------------------------------------------------------------------\u001b[0m",
      "\u001b[1;31mNameError\u001b[0m                                 Traceback (most recent call last)",
      "Cell \u001b[1;32mIn[3], line 1\u001b[0m\n\u001b[1;32m----> 1\u001b[0m \u001b[43mdatos2\u001b[49m\u001b[38;5;241m*\u001b[39mmask_col0\n",
      "\u001b[1;31mNameError\u001b[0m: name 'datos2' is not defined"
     ]
    }
   ],
   "source": [
    "datos2*mask_col0"
   ]
  },
  {
   "cell_type": "markdown",
   "id": "a666c4c3",
   "metadata": {},
   "source": [
    "Como se ve, el resultado en un array de dos columna, donde en la primera columna son todos positivos y en la segunda menores que +10. ¿Y si queremos que al menos se cumpla una condición? Simplemente tenermos que sumar las dos máscaras (las de cada columna) en lugar de multiplicarla, básicamente es como multiplicar o sumar unos o ceros (True o False).\n",
    "\n",
    "Como este tipo de operaciones tienen mucho potencial y pueden llegar a se complejas. numpy tiene un módulo que puede ayudar en estos casos, que es el de arrays enmascarados (numpy.ma). Se trata de un tipo de datos que permite ignorar algunos elementos de un array según ciertas condiciones. Vemos un ejemplo:"
   ]
  },
  {
   "cell_type": "code",
   "execution_count": 4,
   "id": "62226d3b",
   "metadata": {},
   "outputs": [],
   "source": [
    "import numpy.ma as ma\n",
    "x = np.array([1, 2, 3, -1, 5])"
   ]
  },
  {
   "cell_type": "code",
   "execution_count": 5,
   "id": "a098860a",
   "metadata": {},
   "outputs": [],
   "source": [
    "# Enmascaramos en cuarto elemento\n",
    "mx = ma.masked_array(x, mask=[0, 0, 0, 1, 0])"
   ]
  },
  {
   "cell_type": "code",
   "execution_count": 6,
   "id": "9a470954",
   "metadata": {},
   "outputs": [
    {
     "name": "stdout",
     "output_type": "stream",
     "text": [
      "2.75\n"
     ]
    }
   ],
   "source": [
    "print(mx.mean())"
   ]
  },
  {
   "cell_type": "code",
   "execution_count": 7,
   "id": "5b91f38d",
   "metadata": {},
   "outputs": [
    {
     "name": "stdout",
     "output_type": "stream",
     "text": [
      "2.0\n"
     ]
    }
   ],
   "source": [
    "print(x.mean())"
   ]
  },
  {
   "cell_type": "markdown",
   "id": "54f5b3d7",
   "metadata": {},
   "source": [
    "Como se ve, el array enmascarado ha ignorado el valor que se enmascara con True dando un resultado distinto en la media, pero no lo ha eliminado del array."
   ]
  },
  {
   "cell_type": "code",
   "execution_count": 8,
   "id": "b8eb8d3f",
   "metadata": {},
   "outputs": [
    {
     "data": {
      "text/plain": [
       "masked_array(data=[ 1,  2,  3, -1,  5],\n",
       "             mask=False,\n",
       "       fill_value=999999)"
      ]
     },
     "execution_count": 8,
     "metadata": {},
     "output_type": "execute_result"
    }
   ],
   "source": [
    "x.view(ma.MaskedArray)"
   ]
  },
  {
   "cell_type": "code",
   "execution_count": 9,
   "id": "af6df28c",
   "metadata": {},
   "outputs": [
    {
     "data": {
      "text/plain": [
       "masked_array(data=[1, 2, 3, --, 5],\n",
       "             mask=[False, False, False,  True, False],\n",
       "       fill_value=999999)"
      ]
     },
     "execution_count": 9,
     "metadata": {},
     "output_type": "execute_result"
    }
   ],
   "source": [
    "mx.view(ma.MaskedArray)"
   ]
  },
  {
   "cell_type": "markdown",
   "id": "829b4a5f",
   "metadata": {},
   "source": [
    "Podemos usar algunas funciones de ma para crear las máscaras, como masked_greater(), masked_inside(), masked_where(), etc."
   ]
  },
  {
   "cell_type": "code",
   "execution_count": 10,
   "id": "d554bf48",
   "metadata": {},
   "outputs": [
    {
     "name": "stdout",
     "output_type": "stream",
     "text": [
      "[0 1 2 3]\n"
     ]
    }
   ],
   "source": [
    "a = arange(4)\n",
    "print(a)"
   ]
  },
  {
   "cell_type": "code",
   "execution_count": 122,
   "id": "09dd6ca8",
   "metadata": {},
   "outputs": [
    {
     "data": {
      "text/plain": [
       "masked_array(data=[5.1, 2.4, 3.8, 3.9],\n",
       "             mask=False,\n",
       "       fill_value=1e+20)"
      ]
     },
     "execution_count": 122,
     "metadata": {},
     "output_type": "execute_result"
    }
   ],
   "source": [
    "ma.masked_where(a <= 2, a)"
   ]
  },
  {
   "cell_type": "markdown",
   "id": "527f6b84",
   "metadata": {},
   "source": [
    "## Arrays estructurados"
   ]
  },
  {
   "cell_type": "markdown",
   "id": "37b0f952",
   "metadata": {},
   "source": [
    "Aunque los arrays pueden contener cualquier tipo de dato, los arrays normales sólo pueden ser de un único tipo. Para esto extiste una variante de arrays para contenidos complejos o estructurados, llamado structured arrays, que permiten tratar arrays por estructuras o por campos de estruturas. Además de poder contener distintos tipos de datos, facilitan el acceso por columnas. Vemos un ejemplo con un array con distintos tipos de datos:"
   ]
  },
  {
   "cell_type": "code",
   "execution_count": 123,
   "id": "43f44831",
   "metadata": {},
   "outputs": [],
   "source": [
    "# Array estucturado de 5 elementos, vacio\n",
    "galaxies = zeros(5, dtype = {'names': ('name', 'order', 'type', 'magnitude'),\n",
    "                          'formats': ('U16', 'i4', 'U10', 'f4')})"
   ]
  },
  {
   "cell_type": "code",
   "execution_count": 124,
   "id": "99d5437d",
   "metadata": {},
   "outputs": [],
   "source": [
    "# Listas de datos para contruir el array estructurado\n",
    "names = [\"M 81\", \"NGC 253\", \"M 51\", \"NGC 4676\", \"M 106\"]\n",
    "types = [\"SA(s)b\", \"SAB(s)c\", \"Sc\", \"Irr\", \"SAB(s)bc\"]\n",
    "magnitudes = [6.93, 7.1, 8.4, 14.7, 9.1]\n",
    "order = list(range(5))"
   ]
  },
  {
   "cell_type": "code",
   "execution_count": 125,
   "id": "85103f6b",
   "metadata": {},
   "outputs": [],
   "source": [
    "# Añadimos valores a los campos (columnas)\n",
    "galaxies['name'] = names\n",
    "galaxies['type'] = types\n",
    "galaxies['magnitude'] = magnitudes\n",
    "galaxies['order'] = order"
   ]
  },
  {
   "cell_type": "code",
   "execution_count": 126,
   "id": "890f45ca",
   "metadata": {},
   "outputs": [
    {
     "data": {
      "text/plain": [
       "array([('M 81', 0, 'SA(s)b',  6.93), ('NGC 253', 1, 'SAB(s)c',  7.1 ),\n",
       "       ('M 51', 2, 'Sc',  8.4 ), ('NGC 4676', 3, 'Irr', 14.7 ),\n",
       "       ('M 106', 4, 'SAB(s)bc',  9.1 )],\n",
       "      dtype=[('name', '<U16'), ('order', '<i4'), ('type', '<U10'), ('magnitude', '<f4')])"
      ]
     },
     "execution_count": 126,
     "metadata": {},
     "output_type": "execute_result"
    }
   ],
   "source": [
    "galaxies"
   ]
  },
  {
   "cell_type": "markdown",
   "id": "c70440f7",
   "metadata": {},
   "source": [
    "Se trata de un array con cinco entradas (o records) y cada una de ellas posee cuatro campos de distinto tipo, indicados con la propiedad dtype. En este caso son un string unicode de longitud máxima 16 (U16), un entero 4 bytes (i.e. 32 bit) (i4), string unicode de longitud máxima 16 (U16) y un float de 4 bytes (i.e. 64 bit). El dtype de numpy describe cómo interpretar cada elemento en bytes de bloques de memoria fijos. No sólo se trata de si son float, int, etc., el dtype describe lo siguiente:\n",
    "\n",
    "    Tipo de dato (int, float, objeto Python, etc.)\n",
    "\n",
    "    Tamaño del dato (cuantos bytes puede ocupar)\n",
    "\n",
    "    Orden de bytes de datos (little-endian o big-endian)\n",
    "\n",
    "    Si son datos estructurado (por ejemplo mezcla de tipos de dato), también:\n",
    "\n",
    "            Nombre de los campos\n",
    "\n",
    "            Tipo de dato de cada campo\n",
    "\n",
    "            Qué parte del bloque de memoria ocupa cada campo\n",
    "\n",
    "            Si en dato es un sub-array, su forma y tipo de dato\n",
    "\n",
    "De manera resumida, para definir el tipo de cada elemento podemos usar una de las siguientes cadenas:\n",
    "\n",
    "b1, i1, i2, i4, i8, u1, u2, u4, u8, f2, f4, f8, c8, c16, a<n>\n",
    "\n",
    "que representan, respectivamente, bytes, ints, unsigned ints, floats, complex y strings de longitud fija. También se pueden usar los tipos de datos estándar de Python equivalentes (int, float, etc.)\n",
    "\n",
    "Teniendo un array estructurado como el anterior, podemos ver cada elemento haciendo el indexado habitual y también por campos (columnas):"
   ]
  },
  {
   "cell_type": "code",
   "execution_count": 127,
   "id": "121a5439",
   "metadata": {},
   "outputs": [
    {
     "name": "stdout",
     "output_type": "stream",
     "text": [
      "[('M 81', 0, 'SA(s)b',  6.93) ('NGC 253', 1, 'SAB(s)c',  7.1 )\n",
      " ('M 51', 2, 'Sc',  8.4 ) ('NGC 4676', 3, 'Irr', 14.7 )\n",
      " ('M 106', 4, 'SAB(s)bc',  9.1 )]\n"
     ]
    }
   ],
   "source": [
    "print(galaxies)"
   ]
  },
  {
   "cell_type": "code",
   "execution_count": 128,
   "id": "cfd8b6d2",
   "metadata": {},
   "outputs": [
    {
     "data": {
      "text/plain": [
       "array(['M 81', 'NGC 253', 'M 51', 'NGC 4676', 'M 106'], dtype='<U16')"
      ]
     },
     "execution_count": 128,
     "metadata": {},
     "output_type": "execute_result"
    }
   ],
   "source": [
    "# Columna 'name' del array\n",
    "galaxies['name']"
   ]
  },
  {
   "cell_type": "code",
   "execution_count": 129,
   "id": "7213d0c9",
   "metadata": {},
   "outputs": [
    {
     "data": {
      "text/plain": [
       "('M 81', 0, 'SA(s)b', 6.93)"
      ]
     },
     "execution_count": 129,
     "metadata": {},
     "output_type": "execute_result"
    }
   ],
   "source": [
    "# Primer elemento del array, con todos los campos (columnas)\n",
    "galaxies[0]"
   ]
  },
  {
   "cell_type": "code",
   "execution_count": 130,
   "id": "0bb07f9e",
   "metadata": {},
   "outputs": [
    {
     "data": {
      "text/plain": [
       "array(['M 81', 'NGC 253', 'M 51'], dtype='<U16')"
      ]
     },
     "execution_count": 130,
     "metadata": {},
     "output_type": "execute_result"
    }
   ],
   "source": [
    "# Nombres de galaxias más brillantes que magnitud 9\n",
    "galaxies[galaxies['magnitude'] < 9]['name']"
   ]
  },
  {
   "cell_type": "markdown",
   "id": "5f7f2cf7",
   "metadata": {},
   "source": [
    "\n",
    "\n",
    "Adicionalmente, numpy tiene una subclase de array estructurado llamado record array que básicamente es idéntico a los arrays estructurados pero permite el acceso a los campos como métodos además de como índice. Se declaran igual que los estructurados usando np.rec.array(), pero podemos convertir el anterior de la siguiente forma:"
   ]
  },
  {
   "cell_type": "code",
   "execution_count": 131,
   "id": "17ff4fe1",
   "metadata": {},
   "outputs": [],
   "source": [
    "# Array estructurado a record array\n",
    "galaxies_ra = galaxies.view(np.recarray)"
   ]
  },
  {
   "cell_type": "code",
   "execution_count": 132,
   "id": "ad29ebd6",
   "metadata": {},
   "outputs": [
    {
     "data": {
      "text/plain": [
       "array(['M 81', 'NGC 253', 'M 51', 'NGC 4676', 'M 106'], dtype='<U16')"
      ]
     },
     "execution_count": 132,
     "metadata": {},
     "output_type": "execute_result"
    }
   ],
   "source": [
    "# Acceso al campo name como un método, en lugar de galaxies_ra['name']\n",
    "galaxies_ra.name"
   ]
  },
  {
   "cell_type": "code",
   "execution_count": 133,
   "id": "99abe128-5423-485e-9946-dcb3afd0d737",
   "metadata": {},
   "outputs": [
    {
     "data": {
      "text/plain": [
       "array([ 6.93,  7.1 ,  8.4 , 14.7 ,  9.1 ], dtype=float32)"
      ]
     },
     "execution_count": 133,
     "metadata": {},
     "output_type": "execute_result"
    }
   ],
   "source": [
    "galaxies_ra.magnitude"
   ]
  },
  {
   "cell_type": "markdown",
   "id": "3b6ae5d1",
   "metadata": {},
   "source": [
    "## Lectura y escritura de datos con numpy"
   ]
  },
  {
   "cell_type": "markdown",
   "id": "269e7160",
   "metadata": {},
   "source": [
    "numpy posee algunos métodos de lectura de ficheros de texto que nos pueden facilitar la vida si son relativamente sencillos. En más básico es np.loadtxt(); si todos las columnas del fichero son numéricas, basta con indicar el delimitador de columnas si es distinto de espacios:"
   ]
  },
  {
   "cell_type": "code",
   "execution_count": 134,
   "id": "776bc5cd",
   "metadata": {},
   "outputs": [],
   "source": [
    "# Leo un fichero de datos con campos delimitados por \";\"\n",
    "data = loadtxt(\"test.txt\", delimiter=\";\")"
   ]
  },
  {
   "cell_type": "code",
   "execution_count": 135,
   "id": "96aba270",
   "metadata": {},
   "outputs": [
    {
     "data": {
      "text/plain": [
       "(40, 2)"
      ]
     },
     "execution_count": 135,
     "metadata": {},
     "output_type": "execute_result"
    }
   ],
   "source": [
    "data.shape"
   ]
  },
  {
   "cell_type": "markdown",
   "id": "ee210b8e",
   "metadata": {},
   "source": [
    "Si hay más de una columna como en este ejemplo, np.loadtxt() devuelve un array bidimiensional en el que primera dimensión o eje son las filas y el segundo las columnas, de maneras que el fichero que acabamos de leer tiene 40 filas y dos columnas. Quizás sea más práctico poner la columnas por separado, para lo que podemos hacer:"
   ]
  },
  {
   "cell_type": "code",
   "execution_count": 136,
   "id": "8154ec9c",
   "metadata": {},
   "outputs": [],
   "source": [
    "tiempo = data[:, 0]  # tiempo, la primera columna\n",
    "masa = data[:, 1]    # masa, la segunda columna"
   ]
  },
  {
   "cell_type": "code",
   "execution_count": 137,
   "id": "3143c475",
   "metadata": {},
   "outputs": [],
   "source": [
    "tiempo, masa = loadtxt(\"test.txt\", delimiter=\";\", unpack=True)"
   ]
  },
  {
   "cell_type": "code",
   "execution_count": 138,
   "id": "8a421049-f057-4500-ae74-518387ca6775",
   "metadata": {},
   "outputs": [
    {
     "data": {
      "text/plain": [
       "array([200., 200., 200., 200., 200., 200., 200., 200., 200., 200., 200.,\n",
       "       200., 200., 200., 200., 200., 200., 200., 200., 200., 200., 200.,\n",
       "       200., 200., 200., 200., 200., 200., 200., 200., 200., 200., 200.,\n",
       "       200., 200., 200., 200., 200., 200., 200.])"
      ]
     },
     "execution_count": 138,
     "metadata": {},
     "output_type": "execute_result"
    }
   ],
   "source": [
    "masa"
   ]
  },
  {
   "cell_type": "markdown",
   "id": "fe3ad94d",
   "metadata": {},
   "source": [
    "Si el fichero a leer tiene distintos tipos datos (string y float), hay que indicar con el parámetro dtype la lista de tipos de dato que tienen las columnas que queremos leer. En este caso es más práctico usar el método np.genfromtxt(), que similar a loadtxt() pero más flexible para leer columnas de distinto tipo. Si usamos np.genfromtxt() con el parámetro dtype, que puede ser una lista con tuplas nombre-tipo, podemos indicar el nombre de la columna y el tipo dato que contiene, creando un array estructurado como vimos antes:"
   ]
  },
  {
   "cell_type": "code",
   "execution_count": 139,
   "id": "c52ee94f",
   "metadata": {},
   "outputs": [],
   "source": [
    "dtypes = [('tiempo', 'float'), ('masa', 'int')]\n",
    "data = genfromtxt('test.txt', dtype=dtypes,delimiter=\";\")"
   ]
  },
  {
   "cell_type": "code",
   "execution_count": 140,
   "id": "522e6b3a-10b8-4c48-88e5-329b2e989dff",
   "metadata": {},
   "outputs": [
    {
     "data": {
      "text/plain": [
       "array([200, 200, 200, 200, 200, 200, 200, 200, 200, 200, 200, 200, 200,\n",
       "       200, 200, 200, 200, 200, 200, 200, 200, 200, 200, 200, 200, 200,\n",
       "       200, 200, 200, 200, 200, 200, 200, 200, 200, 200, 200, 200, 200,\n",
       "       200])"
      ]
     },
     "execution_count": 140,
     "metadata": {},
     "output_type": "execute_result"
    }
   ],
   "source": [
    "data['masa']"
   ]
  },
  {
   "cell_type": "markdown",
   "id": "87a76fba",
   "metadata": {},
   "source": [
    "En este caso ya no hay que usar el desempaquetado, porque tenemos un array estructurado con columnas con nombre data['tiempo'] y data['masa'].\n",
    "\n",
    "De manera similar, podemos usar np.savetxt() para guardar un fichero de datos por columnas:"
   ]
  },
  {
   "cell_type": "code",
   "execution_count": 141,
   "id": "4032953c",
   "metadata": {},
   "outputs": [],
   "source": [
    "# Guardamos un array datos en un fichero de texto, con los campos\n",
    "# delimitados por tabulador (\\t) en formato float con dos decimales\n",
    "# y le damos una cabecera\n",
    "savetxt('datos.txt', data, delimiter='\\t', fmt='%.1f', header=\"tiempo\\t masa\")"
   ]
  },
  {
   "cell_type": "markdown",
   "id": "abb88271",
   "metadata": {
    "editable": true,
    "slideshow": {
     "slide_type": ""
    },
    "tags": []
   },
   "source": [
    "En este ejemplo delimitamos las columnas por tabuladores (\\t), escribimos los números como floats con dos decimales (%.2f, por defecto es notación científica) y añadimos un string que hace de cabecera."
   ]
  }
 ],
 "metadata": {
  "kernelspec": {
   "display_name": "Python 3 (ipykernel)",
   "language": "python",
   "name": "python3"
  },
  "language_info": {
   "codemirror_mode": {
    "name": "ipython",
    "version": 3
   },
   "file_extension": ".py",
   "mimetype": "text/x-python",
   "name": "python",
   "nbconvert_exporter": "python",
   "pygments_lexer": "ipython3",
   "version": "3.11.7"
  }
 },
 "nbformat": 4,
 "nbformat_minor": 5
}
