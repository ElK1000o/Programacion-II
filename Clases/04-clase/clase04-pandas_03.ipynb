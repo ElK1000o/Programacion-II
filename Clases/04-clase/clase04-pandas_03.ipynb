{
 "cells": [
  {
   "cell_type": "markdown",
   "id": "b00156de-dfea-44eb-93d5-a89d8ea037e6",
   "metadata": {
    "editable": true,
    "slideshow": {
     "slide_type": ""
    },
    "tags": []
   },
   "source": [
    "# **Tipos de datos y formatos**\n",
    "\n",
    "El formato de columnas y filas individuales afectará el análisis realizado en\n",
    "un dataset leído en Python. Por ejemplo, no se pueden realizar cálculos\n",
    "matemáticos sobre una secuencia de caracteres (datos con formato de texto).\n",
    "Esto puede parecer obvio, sin embargo, a veces en Python los valores numéricos\n",
    "son leídos como secuencias de caracteres. En esta situación, cuando intentas\n",
    "realizar cálculos con datos numéricos sobre datos formateados como secuencias\n",
    "de caracteres, obtienes un error.\n",
    "\n",
    "En esta lección repasaremos maneras de explorar y comprender mejor la\n",
    "estructura y formato de nuestros datos.\n",
    "\n",
    "# Tipos de Datos\n",
    "\n",
    "La forma en que se almacena la información en un\n",
    "**DataFrame** u objeto Python afecta a lo que podemos hacer con él y también a\n",
    "los resultados de los cálculos. Hay dos tipos principales de datos\n",
    "que estaremos explorando en esta lección: tipos de datos numéricos y de texto.\n",
    "\n",
    "## Tipos de Datos Numéricos\n",
    "\n",
    "Los tipos de datos numéricos incluyen enteros (**integer**) y números de punto flotante (**float**). Un número de\n",
    "punto flotante tiene puntos decimales incluso si\n",
    "el valor del punto decimal es 0. Por ejemplo: 1.13, 2.0, 1234.345. Si tenemos\n",
    "una columna que contiene tanto enteros como números de punto flotante, Pandas asignará el tipo\n",
    "de dato `float` a toda la columna, de modo tal que los puntos decimales no se\n",
    "pierdan.\n",
    "\n",
    "Un **integer** nunca tendrá un punto decimal. Así que, si quisiéramos almacenar\n",
    "1.13 como un entero de tipo **integer** se almacenará como 1. Del mismo modo, 1234.345 se\n",
    "almacenará como 1234. A menudo, en Python verás el tipo de dato `Int64`\n",
    "que representa un entero de 64 bits. El 64 simplemente se refiere a la\n",
    "memoria asignada para almacenar datos en cada celda; eso se refiere\n",
    "a la cantidad de dígitos que puede efectivamente almacenar cada \"celda\".\n",
    "Asignar espacio antes de tiempo permite a las computadoras optimizar\n",
    "el almacenamiento y hacer más eficiente el procesamiento.\n",
    "\n",
    "## Tipo de Datos de Texto\n",
    "\n",
    "En Python, el tipo de datos de texto se conoce como secuencia de caracteres (**string**).\n",
    "En Pandas se los conoce como objetos (**object**). Las secuencias de caracteres pueden\n",
    "contener números y / o caracteres. Por ejemplo, una secuencia de caracteres\n",
    "puede ser una palabra, una oración, o varias oraciones. Un objeto Pandas\n",
    "también podría ser un nombre de gráfico como 'plot1'. Una secuencia de\n",
    "caracteres también puede contener o consistir en números. Por ejemplo, '1234'\n",
    "podría ser almacenado como una secuencia de caracteres. También '10.23'\n",
    "podría ser almacenado como secuencia de caracteres. Sin embargo, ¡**las\n",
    "las secuencias de caracteres que contienen números no se pueden utilizar en\n",
    "operaciones matemáticas**!\n",
    "\n",
    "\n",
    "Pandas y Python básico utilizan nombres ligeramente diferentes para los tipos\n",
    "de datos. Más sobre esto en la tabla de abajo:\n",
    "\n",
    "| Tipo en Pandas | Tipo en Python Nativo | Descripción |\n",
    "|----------------|-----------------------|-------------|\n",
    "| object | string | El **dtype** más general. Será asignado a tu columna si la columna contiene tipos mixtos (números y secuencias de caracteres). |\n",
    "| int64  | int | Caracteres numéricos. 64 se refiere a la memoria asignada para almacenar el caracter. |\n",
    "| float64 | float | Caracteres numéricos con decimales. Si una columna contiene números y NaNs (ver más abajo), Pandas usará float64 por defecto, en caso de que los datos faltantes contengan decimales. |\n",
    "| datetime64, timedelta[ns] | N/D (ver el módulo [datetime] en la biblioteca estandar de Python) | Valores destinados a contener datos de tiempo. Mira en estos para experimentos con series de tiempo. |\n",
    "\n",
    "[datetime]: http://doc.python.org/2/library/datetime.html\n",
    "\n",
    "\n",
    "## Comprobando el formato de nuestros datos\n",
    "\n",
    "Ahora que tenemos una comprensión básica de los tipos de datos numéricos\n",
    "y de texto, exploremos el formato de los datos de nuestra encuesta. Estaremos trabajando\n",
    "con el mismo **dataset**  `survey.csv` que hemos usado en lecciones anteriores."
   ]
  },
  {
   "cell_type": "code",
   "execution_count": 4,
   "id": "e61c404a-2f61-491e-8182-fbe577754570",
   "metadata": {
    "editable": true,
    "slideshow": {
     "slide_type": ""
    },
    "tags": []
   },
   "outputs": [],
   "source": [
    "import pandas as pd\n",
    "# Ten en cuenta que se usa `pd.read_csv` porque importamos pandas con el alias `pd`\n",
    "survey_df = pd.read_csv('../03-clase/pandas_data/pandas_data/surveys.csv')"
   ]
  },
  {
   "cell_type": "markdown",
   "id": "18c08f63-5747-40eb-95a3-f55683408579",
   "metadata": {},
   "source": [
    "Recuerda que podemos comprobar el tipo de un objeto de la siguiente manera:"
   ]
  },
  {
   "cell_type": "code",
   "execution_count": 2,
   "id": "52be62ae-f9bb-4091-a765-af5001b30fdc",
   "metadata": {},
   "outputs": [
    {
     "data": {
      "text/plain": [
       "pandas.core.frame.DataFrame"
      ]
     },
     "execution_count": 2,
     "metadata": {},
     "output_type": "execute_result"
    }
   ],
   "source": [
    "type(survey_df)"
   ]
  },
  {
   "cell_type": "markdown",
   "id": "97f68e6a-0357-4309-b182-0d8fda2b142e",
   "metadata": {},
   "source": [
    "A continuación, veamos la estructura de datos de nuestras encuestas. En pandas,\n",
    "podemos comprobar el tipo de datos de una columna en un **DataFrame** usando la sintaxis\n",
    "`dataFrameName[column_name].dtype`:"
   ]
  },
  {
   "cell_type": "code",
   "execution_count": 3,
   "id": "cec2af97-d4cc-45d1-83d4-84647af64604",
   "metadata": {},
   "outputs": [
    {
     "data": {
      "text/html": [
       "<div>\n",
       "<style scoped>\n",
       "    .dataframe tbody tr th:only-of-type {\n",
       "        vertical-align: middle;\n",
       "    }\n",
       "\n",
       "    .dataframe tbody tr th {\n",
       "        vertical-align: top;\n",
       "    }\n",
       "\n",
       "    .dataframe thead th {\n",
       "        text-align: right;\n",
       "    }\n",
       "</style>\n",
       "<table border=\"1\" class=\"dataframe\">\n",
       "  <thead>\n",
       "    <tr style=\"text-align: right;\">\n",
       "      <th></th>\n",
       "      <th>record_id</th>\n",
       "      <th>month</th>\n",
       "      <th>day</th>\n",
       "      <th>year</th>\n",
       "      <th>plot_id</th>\n",
       "      <th>species_id</th>\n",
       "      <th>sex</th>\n",
       "      <th>hindfoot_length</th>\n",
       "      <th>weight</th>\n",
       "    </tr>\n",
       "  </thead>\n",
       "  <tbody>\n",
       "    <tr>\n",
       "      <th>0</th>\n",
       "      <td>1</td>\n",
       "      <td>7</td>\n",
       "      <td>16</td>\n",
       "      <td>1977</td>\n",
       "      <td>2</td>\n",
       "      <td>NL</td>\n",
       "      <td>M</td>\n",
       "      <td>32.0</td>\n",
       "      <td>NaN</td>\n",
       "    </tr>\n",
       "    <tr>\n",
       "      <th>1</th>\n",
       "      <td>2</td>\n",
       "      <td>7</td>\n",
       "      <td>16</td>\n",
       "      <td>1977</td>\n",
       "      <td>3</td>\n",
       "      <td>NL</td>\n",
       "      <td>M</td>\n",
       "      <td>33.0</td>\n",
       "      <td>NaN</td>\n",
       "    </tr>\n",
       "    <tr>\n",
       "      <th>2</th>\n",
       "      <td>3</td>\n",
       "      <td>7</td>\n",
       "      <td>16</td>\n",
       "      <td>1977</td>\n",
       "      <td>2</td>\n",
       "      <td>DM</td>\n",
       "      <td>F</td>\n",
       "      <td>37.0</td>\n",
       "      <td>NaN</td>\n",
       "    </tr>\n",
       "    <tr>\n",
       "      <th>3</th>\n",
       "      <td>4</td>\n",
       "      <td>7</td>\n",
       "      <td>16</td>\n",
       "      <td>1977</td>\n",
       "      <td>7</td>\n",
       "      <td>DM</td>\n",
       "      <td>M</td>\n",
       "      <td>36.0</td>\n",
       "      <td>NaN</td>\n",
       "    </tr>\n",
       "    <tr>\n",
       "      <th>4</th>\n",
       "      <td>5</td>\n",
       "      <td>7</td>\n",
       "      <td>16</td>\n",
       "      <td>1977</td>\n",
       "      <td>3</td>\n",
       "      <td>DM</td>\n",
       "      <td>M</td>\n",
       "      <td>35.0</td>\n",
       "      <td>NaN</td>\n",
       "    </tr>\n",
       "    <tr>\n",
       "      <th>...</th>\n",
       "      <td>...</td>\n",
       "      <td>...</td>\n",
       "      <td>...</td>\n",
       "      <td>...</td>\n",
       "      <td>...</td>\n",
       "      <td>...</td>\n",
       "      <td>...</td>\n",
       "      <td>...</td>\n",
       "      <td>...</td>\n",
       "    </tr>\n",
       "    <tr>\n",
       "      <th>35544</th>\n",
       "      <td>35545</td>\n",
       "      <td>12</td>\n",
       "      <td>31</td>\n",
       "      <td>2002</td>\n",
       "      <td>15</td>\n",
       "      <td>AH</td>\n",
       "      <td>NaN</td>\n",
       "      <td>NaN</td>\n",
       "      <td>NaN</td>\n",
       "    </tr>\n",
       "    <tr>\n",
       "      <th>35545</th>\n",
       "      <td>35546</td>\n",
       "      <td>12</td>\n",
       "      <td>31</td>\n",
       "      <td>2002</td>\n",
       "      <td>15</td>\n",
       "      <td>AH</td>\n",
       "      <td>NaN</td>\n",
       "      <td>NaN</td>\n",
       "      <td>NaN</td>\n",
       "    </tr>\n",
       "    <tr>\n",
       "      <th>35546</th>\n",
       "      <td>35547</td>\n",
       "      <td>12</td>\n",
       "      <td>31</td>\n",
       "      <td>2002</td>\n",
       "      <td>10</td>\n",
       "      <td>RM</td>\n",
       "      <td>F</td>\n",
       "      <td>15.0</td>\n",
       "      <td>14.0</td>\n",
       "    </tr>\n",
       "    <tr>\n",
       "      <th>35547</th>\n",
       "      <td>35548</td>\n",
       "      <td>12</td>\n",
       "      <td>31</td>\n",
       "      <td>2002</td>\n",
       "      <td>7</td>\n",
       "      <td>DO</td>\n",
       "      <td>M</td>\n",
       "      <td>36.0</td>\n",
       "      <td>51.0</td>\n",
       "    </tr>\n",
       "    <tr>\n",
       "      <th>35548</th>\n",
       "      <td>35549</td>\n",
       "      <td>12</td>\n",
       "      <td>31</td>\n",
       "      <td>2002</td>\n",
       "      <td>5</td>\n",
       "      <td>NaN</td>\n",
       "      <td>NaN</td>\n",
       "      <td>NaN</td>\n",
       "      <td>NaN</td>\n",
       "    </tr>\n",
       "  </tbody>\n",
       "</table>\n",
       "<p>35549 rows × 9 columns</p>\n",
       "</div>"
      ],
      "text/plain": [
       "       record_id  month  day  year  plot_id species_id  sex  hindfoot_length  \\\n",
       "0              1      7   16  1977        2         NL    M             32.0   \n",
       "1              2      7   16  1977        3         NL    M             33.0   \n",
       "2              3      7   16  1977        2         DM    F             37.0   \n",
       "3              4      7   16  1977        7         DM    M             36.0   \n",
       "4              5      7   16  1977        3         DM    M             35.0   \n",
       "...          ...    ...  ...   ...      ...        ...  ...              ...   \n",
       "35544      35545     12   31  2002       15         AH  NaN              NaN   \n",
       "35545      35546     12   31  2002       15         AH  NaN              NaN   \n",
       "35546      35547     12   31  2002       10         RM    F             15.0   \n",
       "35547      35548     12   31  2002        7         DO    M             36.0   \n",
       "35548      35549     12   31  2002        5        NaN  NaN              NaN   \n",
       "\n",
       "       weight  \n",
       "0         NaN  \n",
       "1         NaN  \n",
       "2         NaN  \n",
       "3         NaN  \n",
       "4         NaN  \n",
       "...       ...  \n",
       "35544     NaN  \n",
       "35545     NaN  \n",
       "35546    14.0  \n",
       "35547    51.0  \n",
       "35548     NaN  \n",
       "\n",
       "[35549 rows x 9 columns]"
      ]
     },
     "execution_count": 3,
     "metadata": {},
     "output_type": "execute_result"
    }
   ],
   "source": [
    "survey_df"
   ]
  },
  {
   "cell_type": "code",
   "execution_count": 4,
   "id": "a343fe1f-9ea4-442f-afa5-6a6bb8cf08b3",
   "metadata": {},
   "outputs": [
    {
     "data": {
      "text/plain": [
       "dtype('O')"
      ]
     },
     "execution_count": 4,
     "metadata": {},
     "output_type": "execute_result"
    }
   ],
   "source": [
    "survey_df['sex'].dtype"
   ]
  },
  {
   "cell_type": "markdown",
   "id": "d7c6c2c8-cdd3-4bf5-b2fc-acffc656455c",
   "metadata": {},
   "source": [
    "Un tipo ‘O’ solo significa “objeto” que en el mundo de Pandas es una secuencia de caracteres (texto)."
   ]
  },
  {
   "cell_type": "code",
   "execution_count": 5,
   "id": "fd5756de-7401-48dc-b969-99bbe246c458",
   "metadata": {},
   "outputs": [
    {
     "data": {
      "text/plain": [
       "dtype('int64')"
      ]
     },
     "execution_count": 5,
     "metadata": {},
     "output_type": "execute_result"
    }
   ],
   "source": [
    "survey_df['record_id'].dtype"
   ]
  },
  {
   "cell_type": "markdown",
   "id": "e5514759-5f0b-4b33-9725-cd6e460af8fa",
   "metadata": {},
   "source": [
    "El tipo `int64` nos dice que Python está almacenando cada valor dentro de esta columna\n",
    "como un entero de 64 bits. Podemos usar el comando `dat.dtypes` para ver el tipo de datos\n",
    "de cada columna de un **DataFrame** (todos a la vez)."
   ]
  },
  {
   "cell_type": "code",
   "execution_count": 6,
   "id": "b7e83b0f-e99b-40fb-86c9-a385d95e6b5e",
   "metadata": {},
   "outputs": [
    {
     "data": {
      "text/plain": [
       "record_id            int64\n",
       "month                int64\n",
       "day                  int64\n",
       "year                 int64\n",
       "plot_id              int64\n",
       "species_id          object\n",
       "sex                 object\n",
       "hindfoot_length    float64\n",
       "weight             float64\n",
       "dtype: object"
      ]
     },
     "execution_count": 6,
     "metadata": {},
     "output_type": "execute_result"
    }
   ],
   "source": [
    "survey_df.dtypes"
   ]
  },
  {
   "cell_type": "markdown",
   "id": "8849e102-cb5e-42d8-908b-fe5ee721ff9c",
   "metadata": {},
   "source": [
    "Ten en cuenta que la mayoría de las columnas en nuestros datos de encuesta son\n",
    "del tipo `int64`. Esto significa que son enteros de 64 bits. Pero la columna de\n",
    "peso (weight) es un valor de punto flotante o `float`, lo que significa que contiene\n",
    "decimales. Las columnas `species_id` y `sex` son objetos, lo cual significa que\n",
    "contienen secuencias de caracteres `string`."
   ]
  },
  {
   "cell_type": "markdown",
   "id": "cdee5ecb-69e4-4417-8adc-692c8ffbb82a",
   "metadata": {},
   "source": [
    "# Trabajando con los datos de nuestra encuesta\n",
    "\n",
    "Volviendo a nuestros datos, si lo deseamos, podemos modificar el formato de los\n",
    "valores dentro de nuestros datos. Por ejemplo, podríamos convertir el campo\n",
    " `record_id` a **float**"
   ]
  },
  {
   "cell_type": "code",
   "execution_count": 7,
   "id": "c138a735-f1a1-46fa-8506-6597fd6e33ef",
   "metadata": {},
   "outputs": [],
   "source": [
    "# Convertir el campo record_id de integer a float\n",
    "survey_df['record_id'] = survey_df['record_id'].astype('int64')"
   ]
  },
  {
   "cell_type": "code",
   "execution_count": 8,
   "id": "188f6b62-1004-495b-b594-ec506b8d66dc",
   "metadata": {},
   "outputs": [
    {
     "data": {
      "text/plain": [
       "dtype('int64')"
      ]
     },
     "execution_count": 8,
     "metadata": {},
     "output_type": "execute_result"
    }
   ],
   "source": [
    "survey_df['record_id'].dtype"
   ]
  },
  {
   "cell_type": "code",
   "execution_count": 9,
   "id": "9bdc35c0-4aac-4690-afb4-a330a649adc0",
   "metadata": {},
   "outputs": [
    {
     "data": {
      "text/plain": [
       "0            1\n",
       "1            2\n",
       "2            3\n",
       "3            4\n",
       "4            5\n",
       "         ...  \n",
       "35544    35545\n",
       "35545    35546\n",
       "35546    35547\n",
       "35547    35548\n",
       "35548    35549\n",
       "Name: record_id, Length: 35549, dtype: int64"
      ]
     },
     "execution_count": 9,
     "metadata": {},
     "output_type": "execute_result"
    }
   ],
   "source": [
    "survey_df['record_id']"
   ]
  },
  {
   "cell_type": "markdown",
   "id": "a2ee4432-5381-4727-8f45-90000083cab0",
   "metadata": {},
   "source": [
    "## Valores de datos faltantes o nulos - NaN\n",
    "\n",
    "Si observamos la columna `weight`\n",
    "(peso) de los datos de las encuestas, notamos que hay valores NaN (**N**ot **a**\n",
    "**N**umber) (no es número). Los valores **NaN ** son valores que no están definidos\n",
    "y que no se pueden representar matemáticamente. Pandas, por ejemplo, leerá\n",
    "como NaN aquellas celdas vacías de una hoja CSV o Excel. Los valores NaN tienen\n",
    "algunas propiedades deseables: si tuviéramos que promediar la columna `weight`\n",
    "(peso) sin reemplazar los valores NaN, Python sabría saltarse las celdas vacías."
   ]
  },
  {
   "cell_type": "code",
   "execution_count": 10,
   "id": "7b23e03e-7714-4f13-8afa-540cc81c400a",
   "metadata": {},
   "outputs": [
    {
     "data": {
      "text/plain": [
       "0         NaN\n",
       "1         NaN\n",
       "2         NaN\n",
       "3         NaN\n",
       "4         NaN\n",
       "         ... \n",
       "35544     NaN\n",
       "35545     NaN\n",
       "35546    14.0\n",
       "35547    51.0\n",
       "35548     NaN\n",
       "Name: weight, Length: 35549, dtype: float64"
      ]
     },
     "execution_count": 10,
     "metadata": {},
     "output_type": "execute_result"
    }
   ],
   "source": [
    "survey_df['weight']"
   ]
  },
  {
   "cell_type": "code",
   "execution_count": 11,
   "id": "5bc5c168-bfde-4ed4-bdb1-59499d9b22da",
   "metadata": {},
   "outputs": [
    {
     "data": {
      "text/plain": [
       "42.672428212991356"
      ]
     },
     "execution_count": 11,
     "metadata": {},
     "output_type": "execute_result"
    }
   ],
   "source": [
    "survey_df['weight'].mean()"
   ]
  },
  {
   "cell_type": "markdown",
   "id": "56514812-b48e-4afd-8123-c334e59f5308",
   "metadata": {},
   "source": [
    "Tratar con valores de datos faltantes siempre es un desafío. A veces es dificil\n",
    "saber por qué faltan valores. ¿Fue debido a un error de entrada de datos? ¿O\n",
    "son datos que alguien no pudo recoger? ¿Debe considerarse el valor como 0?\n",
    "Para tomar buenas decisiones, necesitamos saber qué representan los valores\n",
    "faltantes del **dataset**. Si tenemos suerte, tendremos algunos metadatos que\n",
    "nos dirán más acerca de cómo fueron manejados los valores nulos.\n",
    "\n",
    "Por ejemplo, en algunas disciplinas, como el sensado remoto, los valores de\n",
    "datos faltantes suelen definirse como -9999. Tener un montón de valores -9999 en\n",
    "tus datos podría realmente alterar los cálculos numéricos. A menudo, en las\n",
    "hojas de cálculo, las celdas se dejan vacías cuando no hay datos disponibles.\n",
    "Por defecto, Pandas reemplazará esos valores nulos con **NaN**.\n",
    "Sin embargo, es una buena práctica adquirir el hábito de marcar intencionalmente\n",
    "aquellas celdas que no tienen datos con un valor que represente \"sin datos\"!\n",
    "De esa manera, en el futuro, no habrá preguntas cuando tu (o alguna otra persona)\n",
    "explore los datos."
   ]
  },
  {
   "cell_type": "markdown",
   "id": "0a5b691d-8956-4c96-84d6-5b3d9815d68c",
   "metadata": {},
   "source": [
    "### ¿Dónde están los **NaN's**?\n",
    "\n",
    "Exploremos un poco más los valores **NaN** en nuestros datos. Usando las herramientas\n",
    "que hemos aprendido, podemos averiguar cuántas filas contienen\n",
    "valores **NaN** en la columna weight (peso). También, partiendo de nuestros datos, podemos\n",
    "crear un nuevo subconjunto que contenga solamente aquellas filas con peso mayor\n",
    "a cero (es decir, seleccionar valores significativos de peso):"
   ]
  },
  {
   "cell_type": "code",
   "execution_count": 12,
   "id": "47f014ff-b6c1-40cf-a8d2-2a2de55e94ab",
   "metadata": {},
   "outputs": [
    {
     "data": {
      "text/html": [
       "<div>\n",
       "<style scoped>\n",
       "    .dataframe tbody tr th:only-of-type {\n",
       "        vertical-align: middle;\n",
       "    }\n",
       "\n",
       "    .dataframe tbody tr th {\n",
       "        vertical-align: top;\n",
       "    }\n",
       "\n",
       "    .dataframe thead th {\n",
       "        text-align: right;\n",
       "    }\n",
       "</style>\n",
       "<table border=\"1\" class=\"dataframe\">\n",
       "  <thead>\n",
       "    <tr style=\"text-align: right;\">\n",
       "      <th></th>\n",
       "      <th>record_id</th>\n",
       "      <th>month</th>\n",
       "      <th>day</th>\n",
       "      <th>year</th>\n",
       "      <th>plot_id</th>\n",
       "      <th>species_id</th>\n",
       "      <th>sex</th>\n",
       "      <th>hindfoot_length</th>\n",
       "      <th>weight</th>\n",
       "    </tr>\n",
       "  </thead>\n",
       "  <tbody>\n",
       "    <tr>\n",
       "      <th>0</th>\n",
       "      <td>1</td>\n",
       "      <td>7</td>\n",
       "      <td>16</td>\n",
       "      <td>1977</td>\n",
       "      <td>2</td>\n",
       "      <td>NL</td>\n",
       "      <td>M</td>\n",
       "      <td>32.0</td>\n",
       "      <td>NaN</td>\n",
       "    </tr>\n",
       "    <tr>\n",
       "      <th>1</th>\n",
       "      <td>2</td>\n",
       "      <td>7</td>\n",
       "      <td>16</td>\n",
       "      <td>1977</td>\n",
       "      <td>3</td>\n",
       "      <td>NL</td>\n",
       "      <td>M</td>\n",
       "      <td>33.0</td>\n",
       "      <td>NaN</td>\n",
       "    </tr>\n",
       "    <tr>\n",
       "      <th>2</th>\n",
       "      <td>3</td>\n",
       "      <td>7</td>\n",
       "      <td>16</td>\n",
       "      <td>1977</td>\n",
       "      <td>2</td>\n",
       "      <td>DM</td>\n",
       "      <td>F</td>\n",
       "      <td>37.0</td>\n",
       "      <td>NaN</td>\n",
       "    </tr>\n",
       "    <tr>\n",
       "      <th>3</th>\n",
       "      <td>4</td>\n",
       "      <td>7</td>\n",
       "      <td>16</td>\n",
       "      <td>1977</td>\n",
       "      <td>7</td>\n",
       "      <td>DM</td>\n",
       "      <td>M</td>\n",
       "      <td>36.0</td>\n",
       "      <td>NaN</td>\n",
       "    </tr>\n",
       "    <tr>\n",
       "      <th>4</th>\n",
       "      <td>5</td>\n",
       "      <td>7</td>\n",
       "      <td>16</td>\n",
       "      <td>1977</td>\n",
       "      <td>3</td>\n",
       "      <td>DM</td>\n",
       "      <td>M</td>\n",
       "      <td>35.0</td>\n",
       "      <td>NaN</td>\n",
       "    </tr>\n",
       "    <tr>\n",
       "      <th>...</th>\n",
       "      <td>...</td>\n",
       "      <td>...</td>\n",
       "      <td>...</td>\n",
       "      <td>...</td>\n",
       "      <td>...</td>\n",
       "      <td>...</td>\n",
       "      <td>...</td>\n",
       "      <td>...</td>\n",
       "      <td>...</td>\n",
       "    </tr>\n",
       "    <tr>\n",
       "      <th>35530</th>\n",
       "      <td>35531</td>\n",
       "      <td>12</td>\n",
       "      <td>31</td>\n",
       "      <td>2002</td>\n",
       "      <td>13</td>\n",
       "      <td>PB</td>\n",
       "      <td>F</td>\n",
       "      <td>27.0</td>\n",
       "      <td>NaN</td>\n",
       "    </tr>\n",
       "    <tr>\n",
       "      <th>35543</th>\n",
       "      <td>35544</td>\n",
       "      <td>12</td>\n",
       "      <td>31</td>\n",
       "      <td>2002</td>\n",
       "      <td>15</td>\n",
       "      <td>US</td>\n",
       "      <td>NaN</td>\n",
       "      <td>NaN</td>\n",
       "      <td>NaN</td>\n",
       "    </tr>\n",
       "    <tr>\n",
       "      <th>35544</th>\n",
       "      <td>35545</td>\n",
       "      <td>12</td>\n",
       "      <td>31</td>\n",
       "      <td>2002</td>\n",
       "      <td>15</td>\n",
       "      <td>AH</td>\n",
       "      <td>NaN</td>\n",
       "      <td>NaN</td>\n",
       "      <td>NaN</td>\n",
       "    </tr>\n",
       "    <tr>\n",
       "      <th>35545</th>\n",
       "      <td>35546</td>\n",
       "      <td>12</td>\n",
       "      <td>31</td>\n",
       "      <td>2002</td>\n",
       "      <td>15</td>\n",
       "      <td>AH</td>\n",
       "      <td>NaN</td>\n",
       "      <td>NaN</td>\n",
       "      <td>NaN</td>\n",
       "    </tr>\n",
       "    <tr>\n",
       "      <th>35548</th>\n",
       "      <td>35549</td>\n",
       "      <td>12</td>\n",
       "      <td>31</td>\n",
       "      <td>2002</td>\n",
       "      <td>5</td>\n",
       "      <td>NaN</td>\n",
       "      <td>NaN</td>\n",
       "      <td>NaN</td>\n",
       "      <td>NaN</td>\n",
       "    </tr>\n",
       "  </tbody>\n",
       "</table>\n",
       "<p>3266 rows × 9 columns</p>\n",
       "</div>"
      ],
      "text/plain": [
       "       record_id  month  day  year  plot_id species_id  sex  hindfoot_length  \\\n",
       "0              1      7   16  1977        2         NL    M             32.0   \n",
       "1              2      7   16  1977        3         NL    M             33.0   \n",
       "2              3      7   16  1977        2         DM    F             37.0   \n",
       "3              4      7   16  1977        7         DM    M             36.0   \n",
       "4              5      7   16  1977        3         DM    M             35.0   \n",
       "...          ...    ...  ...   ...      ...        ...  ...              ...   \n",
       "35530      35531     12   31  2002       13         PB    F             27.0   \n",
       "35543      35544     12   31  2002       15         US  NaN              NaN   \n",
       "35544      35545     12   31  2002       15         AH  NaN              NaN   \n",
       "35545      35546     12   31  2002       15         AH  NaN              NaN   \n",
       "35548      35549     12   31  2002        5        NaN  NaN              NaN   \n",
       "\n",
       "       weight  \n",
       "0         NaN  \n",
       "1         NaN  \n",
       "2         NaN  \n",
       "3         NaN  \n",
       "4         NaN  \n",
       "...       ...  \n",
       "35530     NaN  \n",
       "35543     NaN  \n",
       "35544     NaN  \n",
       "35545     NaN  \n",
       "35548     NaN  \n",
       "\n",
       "[3266 rows x 9 columns]"
      ]
     },
     "execution_count": 12,
     "metadata": {},
     "output_type": "execute_result"
    }
   ],
   "source": [
    "survey_df[pd.isnull(survey_df.weight)]"
   ]
  },
  {
   "cell_type": "code",
   "execution_count": 13,
   "id": "3c1b3217-5062-4d3c-aaf8-418489008a44",
   "metadata": {},
   "outputs": [
    {
     "data": {
      "text/plain": [
       "3266"
      ]
     },
     "execution_count": 13,
     "metadata": {},
     "output_type": "execute_result"
    }
   ],
   "source": [
    "len(survey_df[pd.isnull(survey_df.weight)])"
   ]
  },
  {
   "cell_type": "code",
   "execution_count": 14,
   "id": "201dfce6-4fc4-4bf4-a987-53b79a74614d",
   "metadata": {},
   "outputs": [
    {
     "data": {
      "text/plain": [
       "0        False\n",
       "1        False\n",
       "2        False\n",
       "3        False\n",
       "4        False\n",
       "         ...  \n",
       "35544    False\n",
       "35545    False\n",
       "35546     True\n",
       "35547     True\n",
       "35548    False\n",
       "Name: weight, Length: 35549, dtype: bool"
      ]
     },
     "execution_count": 14,
     "metadata": {},
     "output_type": "execute_result"
    }
   ],
   "source": [
    "survey_df.weight> 0"
   ]
  },
  {
   "cell_type": "code",
   "execution_count": 16,
   "id": "bde6fbf2-81fc-42f9-bba6-896dc8cd3040",
   "metadata": {},
   "outputs": [
    {
     "data": {
      "text/plain": [
       "32283"
      ]
     },
     "execution_count": 16,
     "metadata": {},
     "output_type": "execute_result"
    }
   ],
   "source": [
    "# How many rows have weight values?\n",
    "len(survey_df[survey_df.weight> 0])"
   ]
  },
  {
   "cell_type": "markdown",
   "id": "cef149c9-7944-4382-84d4-63acc556474e",
   "metadata": {},
   "source": [
    "Usando el método `.fillna ()` podemos reemplazar todos los valores **NaN** por\n",
    "ceros (después de hacer una copia de los datos de modo tal de no perder\n",
    "nuestro trabajo):"
   ]
  },
  {
   "cell_type": "code",
   "execution_count": 17,
   "id": "f0e1e413-9257-4a81-b94c-d51ad457c690",
   "metadata": {},
   "outputs": [],
   "source": [
    "df1 = survey_df.copy()"
   ]
  },
  {
   "cell_type": "code",
   "execution_count": 18,
   "id": "f33c8eb3-6ff2-4676-84fc-07a2be3c66b6",
   "metadata": {},
   "outputs": [],
   "source": [
    "# Completar todos los valores NaN con ceros\n",
    "df1['weight'] = df1['weight'].fillna(0)"
   ]
  },
  {
   "cell_type": "code",
   "execution_count": 18,
   "id": "002f395c-9746-49d9-aa65-5269e05712bc",
   "metadata": {},
   "outputs": [
    {
     "data": {
      "text/html": [
       "<div>\n",
       "<style scoped>\n",
       "    .dataframe tbody tr th:only-of-type {\n",
       "        vertical-align: middle;\n",
       "    }\n",
       "\n",
       "    .dataframe tbody tr th {\n",
       "        vertical-align: top;\n",
       "    }\n",
       "\n",
       "    .dataframe thead th {\n",
       "        text-align: right;\n",
       "    }\n",
       "</style>\n",
       "<table border=\"1\" class=\"dataframe\">\n",
       "  <thead>\n",
       "    <tr style=\"text-align: right;\">\n",
       "      <th></th>\n",
       "      <th>record_id</th>\n",
       "      <th>month</th>\n",
       "      <th>day</th>\n",
       "      <th>year</th>\n",
       "      <th>plot_id</th>\n",
       "      <th>species_id</th>\n",
       "      <th>sex</th>\n",
       "      <th>hindfoot_length</th>\n",
       "      <th>weight</th>\n",
       "    </tr>\n",
       "  </thead>\n",
       "  <tbody>\n",
       "    <tr>\n",
       "      <th>0</th>\n",
       "      <td>1</td>\n",
       "      <td>7</td>\n",
       "      <td>16</td>\n",
       "      <td>1977</td>\n",
       "      <td>2</td>\n",
       "      <td>NL</td>\n",
       "      <td>M</td>\n",
       "      <td>32.0</td>\n",
       "      <td>0.0</td>\n",
       "    </tr>\n",
       "    <tr>\n",
       "      <th>1</th>\n",
       "      <td>2</td>\n",
       "      <td>7</td>\n",
       "      <td>16</td>\n",
       "      <td>1977</td>\n",
       "      <td>3</td>\n",
       "      <td>NL</td>\n",
       "      <td>M</td>\n",
       "      <td>33.0</td>\n",
       "      <td>0.0</td>\n",
       "    </tr>\n",
       "    <tr>\n",
       "      <th>2</th>\n",
       "      <td>3</td>\n",
       "      <td>7</td>\n",
       "      <td>16</td>\n",
       "      <td>1977</td>\n",
       "      <td>2</td>\n",
       "      <td>DM</td>\n",
       "      <td>F</td>\n",
       "      <td>37.0</td>\n",
       "      <td>0.0</td>\n",
       "    </tr>\n",
       "    <tr>\n",
       "      <th>3</th>\n",
       "      <td>4</td>\n",
       "      <td>7</td>\n",
       "      <td>16</td>\n",
       "      <td>1977</td>\n",
       "      <td>7</td>\n",
       "      <td>DM</td>\n",
       "      <td>M</td>\n",
       "      <td>36.0</td>\n",
       "      <td>0.0</td>\n",
       "    </tr>\n",
       "    <tr>\n",
       "      <th>4</th>\n",
       "      <td>5</td>\n",
       "      <td>7</td>\n",
       "      <td>16</td>\n",
       "      <td>1977</td>\n",
       "      <td>3</td>\n",
       "      <td>DM</td>\n",
       "      <td>M</td>\n",
       "      <td>35.0</td>\n",
       "      <td>0.0</td>\n",
       "    </tr>\n",
       "    <tr>\n",
       "      <th>...</th>\n",
       "      <td>...</td>\n",
       "      <td>...</td>\n",
       "      <td>...</td>\n",
       "      <td>...</td>\n",
       "      <td>...</td>\n",
       "      <td>...</td>\n",
       "      <td>...</td>\n",
       "      <td>...</td>\n",
       "      <td>...</td>\n",
       "    </tr>\n",
       "    <tr>\n",
       "      <th>35544</th>\n",
       "      <td>35545</td>\n",
       "      <td>12</td>\n",
       "      <td>31</td>\n",
       "      <td>2002</td>\n",
       "      <td>15</td>\n",
       "      <td>AH</td>\n",
       "      <td>NaN</td>\n",
       "      <td>NaN</td>\n",
       "      <td>0.0</td>\n",
       "    </tr>\n",
       "    <tr>\n",
       "      <th>35545</th>\n",
       "      <td>35546</td>\n",
       "      <td>12</td>\n",
       "      <td>31</td>\n",
       "      <td>2002</td>\n",
       "      <td>15</td>\n",
       "      <td>AH</td>\n",
       "      <td>NaN</td>\n",
       "      <td>NaN</td>\n",
       "      <td>0.0</td>\n",
       "    </tr>\n",
       "    <tr>\n",
       "      <th>35546</th>\n",
       "      <td>35547</td>\n",
       "      <td>12</td>\n",
       "      <td>31</td>\n",
       "      <td>2002</td>\n",
       "      <td>10</td>\n",
       "      <td>RM</td>\n",
       "      <td>F</td>\n",
       "      <td>15.0</td>\n",
       "      <td>14.0</td>\n",
       "    </tr>\n",
       "    <tr>\n",
       "      <th>35547</th>\n",
       "      <td>35548</td>\n",
       "      <td>12</td>\n",
       "      <td>31</td>\n",
       "      <td>2002</td>\n",
       "      <td>7</td>\n",
       "      <td>DO</td>\n",
       "      <td>M</td>\n",
       "      <td>36.0</td>\n",
       "      <td>51.0</td>\n",
       "    </tr>\n",
       "    <tr>\n",
       "      <th>35548</th>\n",
       "      <td>35549</td>\n",
       "      <td>12</td>\n",
       "      <td>31</td>\n",
       "      <td>2002</td>\n",
       "      <td>5</td>\n",
       "      <td>NaN</td>\n",
       "      <td>NaN</td>\n",
       "      <td>NaN</td>\n",
       "      <td>0.0</td>\n",
       "    </tr>\n",
       "  </tbody>\n",
       "</table>\n",
       "<p>35549 rows × 9 columns</p>\n",
       "</div>"
      ],
      "text/plain": [
       "       record_id  month  day  year  plot_id species_id  sex  hindfoot_length  \\\n",
       "0              1      7   16  1977        2         NL    M             32.0   \n",
       "1              2      7   16  1977        3         NL    M             33.0   \n",
       "2              3      7   16  1977        2         DM    F             37.0   \n",
       "3              4      7   16  1977        7         DM    M             36.0   \n",
       "4              5      7   16  1977        3         DM    M             35.0   \n",
       "...          ...    ...  ...   ...      ...        ...  ...              ...   \n",
       "35544      35545     12   31  2002       15         AH  NaN              NaN   \n",
       "35545      35546     12   31  2002       15         AH  NaN              NaN   \n",
       "35546      35547     12   31  2002       10         RM    F             15.0   \n",
       "35547      35548     12   31  2002        7         DO    M             36.0   \n",
       "35548      35549     12   31  2002        5        NaN  NaN              NaN   \n",
       "\n",
       "       weight  \n",
       "0         0.0  \n",
       "1         0.0  \n",
       "2         0.0  \n",
       "3         0.0  \n",
       "4         0.0  \n",
       "...       ...  \n",
       "35544     0.0  \n",
       "35545     0.0  \n",
       "35546    14.0  \n",
       "35547    51.0  \n",
       "35548     0.0  \n",
       "\n",
       "[35549 rows x 9 columns]"
      ]
     },
     "execution_count": 18,
     "metadata": {},
     "output_type": "execute_result"
    }
   ],
   "source": [
    "df1"
   ]
  },
  {
   "cell_type": "markdown",
   "id": "8d0764f4-af5e-4bbd-a3d2-f8c346350a4a",
   "metadata": {},
   "source": [
    "Sin embargo, **NaN** y cero arrojan diferentes resultados en el análisis. El valor\n",
    "promedio resulta diferente cuando los valores **NaN** se reemplazan con\n",
    "cero, comparando cuando los valores de **NaN** son descartados o ignorados."
   ]
  },
  {
   "cell_type": "code",
   "execution_count": 19,
   "id": "1dc95ef8-29e5-418c-b2c0-8f8da89c4c03",
   "metadata": {},
   "outputs": [
    {
     "data": {
      "text/plain": [
       "38.751976145601844"
      ]
     },
     "execution_count": 19,
     "metadata": {},
     "output_type": "execute_result"
    }
   ],
   "source": [
    "df1['weight'].mean()"
   ]
  },
  {
   "cell_type": "markdown",
   "id": "e6d9b77c-d107-47e7-8408-2b5cf00bbc84",
   "metadata": {},
   "source": [
    "Podemos completar los valores **NaN** con cualquier valor que elijamos. El\n",
    "código de abajo completa todos los Valores **NaN** con un promedio de los pesos."
   ]
  },
  {
   "cell_type": "code",
   "execution_count": 20,
   "id": "ae3dcb06-2137-422b-9f8d-eb68551b4348",
   "metadata": {},
   "outputs": [],
   "source": [
    " df1['weight'] = survey_df['weight'].fillna(survey_df['weight'].mean())"
   ]
  },
  {
   "cell_type": "markdown",
   "id": "69ed3081-5022-42d7-958d-372bf618e297",
   "metadata": {},
   "source": [
    "\n",
    "También podríamos elegir crear un subconjunto de datos, manteniendo solamente\n",
    "aquellas filas que no contienen valores **NaN**.\n",
    "\n",
    "La clave es tomar decisiones conscientes acerca de cómo administrar los datos\n",
    "faltantes. Aquí es donde pensamos cómo se utilizarán nuestros datos y cómo estos\n",
    "valores afectarán las conclusiones científicas que se obtengan de los datos.\n",
    "\n",
    "Python nos brinda todas las herramientas que necesitamos para dar cuenta de estos\n",
    "problemas. Solo debemos ser cautelosos acerca de cómo nuestras decisiones impactan\n",
    "en los resultados científicos."
   ]
  },
  {
   "cell_type": "markdown",
   "id": "52d4ba17-5ab1-4c7f-829c-0610abe317fa",
   "metadata": {},
   "source": [
    "## Escribiendo datos a CSV\n",
    "\n",
    "Hemos aprendido a manipular datos para obtener los resultados deseados.\n",
    "Pero también hemos discutido acerca de mantener los datos que han sido manipulados\n",
    "separados de los datos sin procesar. Algo que podríamos estar interesados en\n",
    "hacer es trabajar solo con las columnas que tienen datos completos. Primero,\n",
    "recarguemos los datos para no mezclar todas nuestras manipulaciones anteriores."
   ]
  },
  {
   "cell_type": "code",
   "execution_count": 21,
   "id": "46526dad-b41c-444e-839e-f9605f93cae3",
   "metadata": {},
   "outputs": [],
   "source": [
    "import pandas as pd"
   ]
  },
  {
   "cell_type": "code",
   "execution_count": 22,
   "id": "7d7d9f45-8744-4c80-ab05-343b4efa3706",
   "metadata": {},
   "outputs": [],
   "source": [
    "survey_df = pd.read_csv('../03-clase/pandas_data/pandas_data/surveys.csv')"
   ]
  },
  {
   "cell_type": "markdown",
   "id": "b9925e30-79f8-440b-9b65-d02d246ec3ef",
   "metadata": {},
   "source": [
    "A continuación, vamos a eliminar todas las filas que contienen valores nulos.\n",
    "Usaremos el comando `dropna`.\n",
    "De forma predeterminada, `dropna` elimina las filas que contienen valores nulos\n",
    "incluso para una sola columna."
   ]
  },
  {
   "cell_type": "code",
   "execution_count": 23,
   "id": "c50a99a8-27cf-4b01-8c78-c9ba992481c7",
   "metadata": {},
   "outputs": [],
   "source": [
    "df_na = survey_df.dropna()"
   ]
  },
  {
   "cell_type": "code",
   "execution_count": 24,
   "id": "dd3bedc4-a9b0-428b-9012-f6ff51a0c2fd",
   "metadata": {},
   "outputs": [
    {
     "data": {
      "text/html": [
       "<div>\n",
       "<style scoped>\n",
       "    .dataframe tbody tr th:only-of-type {\n",
       "        vertical-align: middle;\n",
       "    }\n",
       "\n",
       "    .dataframe tbody tr th {\n",
       "        vertical-align: top;\n",
       "    }\n",
       "\n",
       "    .dataframe thead th {\n",
       "        text-align: right;\n",
       "    }\n",
       "</style>\n",
       "<table border=\"1\" class=\"dataframe\">\n",
       "  <thead>\n",
       "    <tr style=\"text-align: right;\">\n",
       "      <th></th>\n",
       "      <th>record_id</th>\n",
       "      <th>month</th>\n",
       "      <th>day</th>\n",
       "      <th>year</th>\n",
       "      <th>plot_id</th>\n",
       "      <th>species_id</th>\n",
       "      <th>sex</th>\n",
       "      <th>hindfoot_length</th>\n",
       "      <th>weight</th>\n",
       "    </tr>\n",
       "  </thead>\n",
       "  <tbody>\n",
       "    <tr>\n",
       "      <th>62</th>\n",
       "      <td>63</td>\n",
       "      <td>8</td>\n",
       "      <td>19</td>\n",
       "      <td>1977</td>\n",
       "      <td>3</td>\n",
       "      <td>DM</td>\n",
       "      <td>M</td>\n",
       "      <td>35.0</td>\n",
       "      <td>40.0</td>\n",
       "    </tr>\n",
       "    <tr>\n",
       "      <th>63</th>\n",
       "      <td>64</td>\n",
       "      <td>8</td>\n",
       "      <td>19</td>\n",
       "      <td>1977</td>\n",
       "      <td>7</td>\n",
       "      <td>DM</td>\n",
       "      <td>M</td>\n",
       "      <td>37.0</td>\n",
       "      <td>48.0</td>\n",
       "    </tr>\n",
       "    <tr>\n",
       "      <th>64</th>\n",
       "      <td>65</td>\n",
       "      <td>8</td>\n",
       "      <td>19</td>\n",
       "      <td>1977</td>\n",
       "      <td>4</td>\n",
       "      <td>DM</td>\n",
       "      <td>F</td>\n",
       "      <td>34.0</td>\n",
       "      <td>29.0</td>\n",
       "    </tr>\n",
       "    <tr>\n",
       "      <th>65</th>\n",
       "      <td>66</td>\n",
       "      <td>8</td>\n",
       "      <td>19</td>\n",
       "      <td>1977</td>\n",
       "      <td>4</td>\n",
       "      <td>DM</td>\n",
       "      <td>F</td>\n",
       "      <td>35.0</td>\n",
       "      <td>46.0</td>\n",
       "    </tr>\n",
       "    <tr>\n",
       "      <th>66</th>\n",
       "      <td>67</td>\n",
       "      <td>8</td>\n",
       "      <td>19</td>\n",
       "      <td>1977</td>\n",
       "      <td>7</td>\n",
       "      <td>DM</td>\n",
       "      <td>M</td>\n",
       "      <td>35.0</td>\n",
       "      <td>36.0</td>\n",
       "    </tr>\n",
       "    <tr>\n",
       "      <th>...</th>\n",
       "      <td>...</td>\n",
       "      <td>...</td>\n",
       "      <td>...</td>\n",
       "      <td>...</td>\n",
       "      <td>...</td>\n",
       "      <td>...</td>\n",
       "      <td>...</td>\n",
       "      <td>...</td>\n",
       "      <td>...</td>\n",
       "    </tr>\n",
       "    <tr>\n",
       "      <th>35540</th>\n",
       "      <td>35541</td>\n",
       "      <td>12</td>\n",
       "      <td>31</td>\n",
       "      <td>2002</td>\n",
       "      <td>15</td>\n",
       "      <td>PB</td>\n",
       "      <td>F</td>\n",
       "      <td>24.0</td>\n",
       "      <td>31.0</td>\n",
       "    </tr>\n",
       "    <tr>\n",
       "      <th>35541</th>\n",
       "      <td>35542</td>\n",
       "      <td>12</td>\n",
       "      <td>31</td>\n",
       "      <td>2002</td>\n",
       "      <td>15</td>\n",
       "      <td>PB</td>\n",
       "      <td>F</td>\n",
       "      <td>26.0</td>\n",
       "      <td>29.0</td>\n",
       "    </tr>\n",
       "    <tr>\n",
       "      <th>35542</th>\n",
       "      <td>35543</td>\n",
       "      <td>12</td>\n",
       "      <td>31</td>\n",
       "      <td>2002</td>\n",
       "      <td>15</td>\n",
       "      <td>PB</td>\n",
       "      <td>F</td>\n",
       "      <td>27.0</td>\n",
       "      <td>34.0</td>\n",
       "    </tr>\n",
       "    <tr>\n",
       "      <th>35546</th>\n",
       "      <td>35547</td>\n",
       "      <td>12</td>\n",
       "      <td>31</td>\n",
       "      <td>2002</td>\n",
       "      <td>10</td>\n",
       "      <td>RM</td>\n",
       "      <td>F</td>\n",
       "      <td>15.0</td>\n",
       "      <td>14.0</td>\n",
       "    </tr>\n",
       "    <tr>\n",
       "      <th>35547</th>\n",
       "      <td>35548</td>\n",
       "      <td>12</td>\n",
       "      <td>31</td>\n",
       "      <td>2002</td>\n",
       "      <td>7</td>\n",
       "      <td>DO</td>\n",
       "      <td>M</td>\n",
       "      <td>36.0</td>\n",
       "      <td>51.0</td>\n",
       "    </tr>\n",
       "  </tbody>\n",
       "</table>\n",
       "<p>30676 rows × 9 columns</p>\n",
       "</div>"
      ],
      "text/plain": [
       "       record_id  month  day  year  plot_id species_id sex  hindfoot_length  \\\n",
       "62            63      8   19  1977        3         DM   M             35.0   \n",
       "63            64      8   19  1977        7         DM   M             37.0   \n",
       "64            65      8   19  1977        4         DM   F             34.0   \n",
       "65            66      8   19  1977        4         DM   F             35.0   \n",
       "66            67      8   19  1977        7         DM   M             35.0   \n",
       "...          ...    ...  ...   ...      ...        ...  ..              ...   \n",
       "35540      35541     12   31  2002       15         PB   F             24.0   \n",
       "35541      35542     12   31  2002       15         PB   F             26.0   \n",
       "35542      35543     12   31  2002       15         PB   F             27.0   \n",
       "35546      35547     12   31  2002       10         RM   F             15.0   \n",
       "35547      35548     12   31  2002        7         DO   M             36.0   \n",
       "\n",
       "       weight  \n",
       "62       40.0  \n",
       "63       48.0  \n",
       "64       29.0  \n",
       "65       46.0  \n",
       "66       36.0  \n",
       "...       ...  \n",
       "35540    31.0  \n",
       "35541    29.0  \n",
       "35542    34.0  \n",
       "35546    14.0  \n",
       "35547    51.0  \n",
       "\n",
       "[30676 rows x 9 columns]"
      ]
     },
     "execution_count": 24,
     "metadata": {},
     "output_type": "execute_result"
    }
   ],
   "source": [
    "df_na"
   ]
  },
  {
   "cell_type": "markdown",
   "id": "2b0df1d9-59f9-4929-a975-f4e3411c7b0a",
   "metadata": {},
   "source": [
    "Si ahora escribes `df_na`, deberías observar que el **DataFrame** resultante\n",
    "tiene 30676 filas y 9 columnas, mucho menos que las 35549 filas originales.\n",
    "\n",
    "Ahora podemos usar el comando `to_csv` para exportar un **DataFrame** a formato\n",
    "CSV. Ten en cuenta que el código que se muestra a continuación por defector\n",
    "guardará los datos en el directorio de trabajo en el que estamos parados.\n",
    "Podemos guardarlo en otra carpeta agregando el nombre de la carpeta y una barra\n",
    "inclinada antes del nombre del archivo: `df.to_csv('foldername/out.csv')`.\n",
    "Usamos `index = False` para que Pandas no incluya el número de índice para cada\n",
    "fila."
   ]
  },
  {
   "cell_type": "code",
   "execution_count": 1,
   "id": "33b2b0c0-0198-458d-a4d9-f4ef31fea517",
   "metadata": {
    "editable": true,
    "slideshow": {
     "slide_type": ""
    },
    "tags": []
   },
   "outputs": [
    {
     "ename": "NameError",
     "evalue": "name 'df_na' is not defined",
     "output_type": "error",
     "traceback": [
      "\u001b[1;31m---------------------------------------------------------------------------\u001b[0m",
      "\u001b[1;31mNameError\u001b[0m                                 Traceback (most recent call last)",
      "Cell \u001b[1;32mIn[1], line 2\u001b[0m\n\u001b[0;32m      1\u001b[0m \u001b[38;5;66;03m# Escribir DataFrame a CSV\u001b[39;00m\n\u001b[1;32m----> 2\u001b[0m \u001b[43mdf_na\u001b[49m\u001b[38;5;241m.\u001b[39mto_csv(\u001b[38;5;124m'\u001b[39m\u001b[38;5;124moutput/data/surveys_complete.csv\u001b[39m\u001b[38;5;124m'\u001b[39m, index\u001b[38;5;241m=\u001b[39m\u001b[38;5;28;01mFalse\u001b[39;00m)\n",
      "\u001b[1;31mNameError\u001b[0m: name 'df_na' is not defined"
     ]
    }
   ],
   "source": [
    "# Escribir DataFrame a CSV\n",
    "df_na.to_csv('output/data/surveys_complete.csv', index=False)"
   ]
  },
  {
   "cell_type": "markdown",
   "id": "2bdd77d9-7732-4031-b499-07a33a1f0647",
   "metadata": {
    "editable": true,
    "slideshow": {
     "slide_type": ""
    },
    "tags": []
   },
   "source": [
    "Usaremos este archivo de datos más adelante. Revisa tu directorio de trabajo para asegurarte de que el CSV se haya guardado correctamente y que puedas abrirlo. Si lo deseas, intenta recuperarlo con Python para asegurarte de que se importa correctamente."
   ]
  },
  {
   "cell_type": "code",
   "execution_count": 2,
   "id": "9cb2034e-0834-41c0-b9a2-4d3b9b468580",
   "metadata": {},
   "outputs": [],
   "source": [
    "users = [[1, 'Josy', 'Clarae', 'Female'],\n",
    "        [2, 'Vaughn', 'Halegarth', 'Male'],\n",
    "        [3, 'Neale', 'Georgievski', 'Male'],\n",
    "        [4, 'Teirtza', 'Teirtza', 'Female']]"
   ]
  },
  {
   "cell_type": "code",
   "execution_count": 6,
   "id": "8adf1385-2f56-4bdc-bae6-32e91e53576a",
   "metadata": {},
   "outputs": [
    {
     "data": {
      "text/html": [
       "<div>\n",
       "<style scoped>\n",
       "    .dataframe tbody tr th:only-of-type {\n",
       "        vertical-align: middle;\n",
       "    }\n",
       "\n",
       "    .dataframe tbody tr th {\n",
       "        vertical-align: top;\n",
       "    }\n",
       "\n",
       "    .dataframe thead th {\n",
       "        text-align: right;\n",
       "    }\n",
       "</style>\n",
       "<table border=\"1\" class=\"dataframe\">\n",
       "  <thead>\n",
       "    <tr style=\"text-align: right;\">\n",
       "      <th></th>\n",
       "      <th>0</th>\n",
       "      <th>1</th>\n",
       "      <th>2</th>\n",
       "      <th>3</th>\n",
       "    </tr>\n",
       "  </thead>\n",
       "  <tbody>\n",
       "    <tr>\n",
       "      <th>0</th>\n",
       "      <td>1</td>\n",
       "      <td>Josy</td>\n",
       "      <td>Clarae</td>\n",
       "      <td>Female</td>\n",
       "    </tr>\n",
       "    <tr>\n",
       "      <th>1</th>\n",
       "      <td>2</td>\n",
       "      <td>Vaughn</td>\n",
       "      <td>Halegarth</td>\n",
       "      <td>Male</td>\n",
       "    </tr>\n",
       "    <tr>\n",
       "      <th>2</th>\n",
       "      <td>3</td>\n",
       "      <td>Neale</td>\n",
       "      <td>Georgievski</td>\n",
       "      <td>Male</td>\n",
       "    </tr>\n",
       "    <tr>\n",
       "      <th>3</th>\n",
       "      <td>4</td>\n",
       "      <td>Teirtza</td>\n",
       "      <td>Teirtza</td>\n",
       "      <td>Female</td>\n",
       "    </tr>\n",
       "  </tbody>\n",
       "</table>\n",
       "</div>"
      ],
      "text/plain": [
       "   0        1            2       3\n",
       "0  1     Josy       Clarae  Female\n",
       "1  2   Vaughn    Halegarth    Male\n",
       "2  3    Neale  Georgievski    Male\n",
       "3  4  Teirtza      Teirtza  Female"
      ]
     },
     "execution_count": 6,
     "metadata": {},
     "output_type": "execute_result"
    }
   ],
   "source": [
    "df = pd.DataFrame(users)\n",
    "df"
   ]
  },
  {
   "cell_type": "code",
   "execution_count": 7,
   "id": "a561f628-00bc-4518-9c9b-f816644606d0",
   "metadata": {},
   "outputs": [
    {
     "data": {
      "text/html": [
       "<div>\n",
       "<style scoped>\n",
       "    .dataframe tbody tr th:only-of-type {\n",
       "        vertical-align: middle;\n",
       "    }\n",
       "\n",
       "    .dataframe tbody tr th {\n",
       "        vertical-align: top;\n",
       "    }\n",
       "\n",
       "    .dataframe thead th {\n",
       "        text-align: right;\n",
       "    }\n",
       "</style>\n",
       "<table border=\"1\" class=\"dataframe\">\n",
       "  <thead>\n",
       "    <tr style=\"text-align: right;\">\n",
       "      <th></th>\n",
       "      <th>id</th>\n",
       "      <th>first_name</th>\n",
       "      <th>last_name</th>\n",
       "      <th>gender</th>\n",
       "    </tr>\n",
       "  </thead>\n",
       "  <tbody>\n",
       "    <tr>\n",
       "      <th>a</th>\n",
       "      <td>1</td>\n",
       "      <td>Josy</td>\n",
       "      <td>Clarae</td>\n",
       "      <td>Female</td>\n",
       "    </tr>\n",
       "    <tr>\n",
       "      <th>b</th>\n",
       "      <td>2</td>\n",
       "      <td>Vaughn</td>\n",
       "      <td>Halegarth</td>\n",
       "      <td>Male</td>\n",
       "    </tr>\n",
       "    <tr>\n",
       "      <th>c</th>\n",
       "      <td>3</td>\n",
       "      <td>Neale</td>\n",
       "      <td>Georgievski</td>\n",
       "      <td>Male</td>\n",
       "    </tr>\n",
       "    <tr>\n",
       "      <th>d</th>\n",
       "      <td>4</td>\n",
       "      <td>Teirtza</td>\n",
       "      <td>Teirtza</td>\n",
       "      <td>Female</td>\n",
       "    </tr>\n",
       "  </tbody>\n",
       "</table>\n",
       "</div>"
      ],
      "text/plain": [
       "   id first_name    last_name  gender\n",
       "a   1       Josy       Clarae  Female\n",
       "b   2     Vaughn    Halegarth    Male\n",
       "c   3      Neale  Georgievski    Male\n",
       "d   4    Teirtza      Teirtza  Female"
      ]
     },
     "execution_count": 7,
     "metadata": {},
     "output_type": "execute_result"
    }
   ],
   "source": [
    "df = pd.DataFrame(users,\n",
    "                  columns=['id','first_name', 'last_name', 'gender'],\n",
    "                  index=['a','b','c','d'])\n",
    "df"
   ]
  }
 ],
 "metadata": {
  "kernelspec": {
   "display_name": "Python 3 (ipykernel)",
   "language": "python",
   "name": "python3"
  },
  "language_info": {
   "codemirror_mode": {
    "name": "ipython",
    "version": 3
   },
   "file_extension": ".py",
   "mimetype": "text/x-python",
   "name": "python",
   "nbconvert_exporter": "python",
   "pygments_lexer": "ipython3",
   "version": "3.11.7"
  }
 },
 "nbformat": 4,
 "nbformat_minor": 5
}
