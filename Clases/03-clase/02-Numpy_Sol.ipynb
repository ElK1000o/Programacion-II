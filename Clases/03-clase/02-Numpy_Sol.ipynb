{
 "cells": [
  {
   "cell_type": "markdown",
   "id": "829d3d8e",
   "metadata": {},
   "source": [
    "# Soluciones Tarea 02 - Numpy\n",
    "\n",
    "**Profesor: Ignacio Araya**\n",
    "\n",
    "**Curso: Programación II**"
   ]
  },
  {
   "cell_type": "markdown",
   "id": "05b5f1e6",
   "metadata": {},
   "source": [
    "<h3> Completa los siguientes ejercicios. Documente su código según sea necesario. 10 puntos cada ejercicio</h3>\n",
    "<br>\n",
    "\n",
    "<ol>\n",
    "<li><font size=3> Cree un Numpy Array de 5 por 7 de números enteros aleatorios con valores entre 3 y 11 inclusive. Luego haz lo siguiente:\n",
    "     <ol> <li>Verifique el tipo de datos del array</li>\n",
    "         <li>Encuentre el máximo de todo el array</li>\n",
    "         <li>Encuentre el valor mínimo de cada fila</li>\n",
    "         <li>Encuentre el índice donde ocurre el valor mínimo de cada fila</li>\n",
    "     </ol></font></li>\n",
    "</ol>"
   ]
  },
  {
   "cell_type": "markdown",
   "id": "016ba6aa",
   "metadata": {},
   "source": [
    "### Respuestas Item 1"
   ]
  },
  {
   "cell_type": "code",
   "execution_count": 1,
   "id": "7af50e3a",
   "metadata": {},
   "outputs": [
    {
     "data": {
      "text/plain": [
       "array([[10, 11,  9,  4,  4,  7, 11],\n",
       "       [ 5,  9,  5, 10,  5, 11,  5],\n",
       "       [ 6,  7,  6,  9,  9,  4, 11],\n",
       "       [ 6,  7, 10, 10,  5,  8, 11],\n",
       "       [ 8, 11, 11,  7,  7,  4,  8]])"
      ]
     },
     "execution_count": 1,
     "metadata": {},
     "output_type": "execute_result"
    }
   ],
   "source": [
    "import numpy as np\n",
    "\n",
    "array = np.random.randint(low=3, high=12, size=(5,7))\n",
    "array\n"
   ]
  },
  {
   "cell_type": "markdown",
   "id": "00e29c8b",
   "metadata": {},
   "source": [
    "### 1.- Verificar el tipo de datos del array:\n"
   ]
  },
  {
   "cell_type": "code",
   "execution_count": 2,
   "id": "af5f76e8",
   "metadata": {},
   "outputs": [
    {
     "data": {
      "text/plain": [
       "dtype('int64')"
      ]
     },
     "execution_count": 2,
     "metadata": {},
     "output_type": "execute_result"
    }
   ],
   "source": [
    "array.dtype\n"
   ]
  },
  {
   "cell_type": "markdown",
   "id": "5a5de1a1",
   "metadata": {},
   "source": [
    "### 2.- Encontrar el máximo de todo el array:\n"
   ]
  },
  {
   "cell_type": "code",
   "execution_count": 3,
   "id": "30e005c2",
   "metadata": {},
   "outputs": [
    {
     "data": {
      "text/plain": [
       "11"
      ]
     },
     "execution_count": 3,
     "metadata": {},
     "output_type": "execute_result"
    }
   ],
   "source": [
    "np.max(array)"
   ]
  },
  {
   "cell_type": "markdown",
   "id": "3fc8fd93",
   "metadata": {},
   "source": [
    "### 3.- Encontrar el valor mínimo de cada fila:\n"
   ]
  },
  {
   "cell_type": "code",
   "execution_count": 4,
   "id": "1b91f3a3",
   "metadata": {},
   "outputs": [
    {
     "data": {
      "text/plain": [
       "array([4, 5, 4, 5, 4])"
      ]
     },
     "execution_count": 4,
     "metadata": {},
     "output_type": "execute_result"
    }
   ],
   "source": [
    "np.min(array, axis=1)\n",
    "\n"
   ]
  },
  {
   "cell_type": "markdown",
   "id": "c1002c15",
   "metadata": {},
   "source": [
    "### 4.- Encontrar el índice donde ocurre el valor mínimo de cada fila:"
   ]
  },
  {
   "cell_type": "code",
   "execution_count": 5,
   "id": "cda8708c",
   "metadata": {},
   "outputs": [
    {
     "data": {
      "text/plain": [
       "array([3, 0, 5, 4, 5])"
      ]
     },
     "execution_count": 5,
     "metadata": {},
     "output_type": "execute_result"
    }
   ],
   "source": [
    "np.argmin(array, axis=1)"
   ]
  },
  {
   "cell_type": "markdown",
   "id": "7e2ac9e0",
   "metadata": {},
   "source": [
    "<ol start='2'>\n",
    "   \n",
    "<li> <font size='3'>Ingrese el código a continuación que genera el siguiente numpy array: </font></li>\n",
    "\n",
    "```python\n",
    "#Resultado\n",
    "array([ 4, 9, 14, 19, 24, 29, 34, 39, 44, 49, 54, 59, 64, 69, 74, 79, 84, 89, 94, 99])\n",
    "```\n",
    "</ol>"
   ]
  },
  {
   "cell_type": "code",
   "execution_count": 6,
   "id": "8f6d37ce",
   "metadata": {},
   "outputs": [
    {
     "data": {
      "text/plain": [
       "array([ 4,  9, 14, 19, 24, 29, 34, 39, 44, 49, 54, 59, 64, 69, 74, 79, 84,\n",
       "       89, 94, 99])"
      ]
     },
     "execution_count": 6,
     "metadata": {},
     "output_type": "execute_result"
    }
   ],
   "source": [
    "array = np.arange(20) * 5 + 4\n",
    "array"
   ]
  },
  {
   "cell_type": "markdown",
   "id": "dd528ea5",
   "metadata": {},
   "source": [
    "<ol start='3'>\n",
    "   \n",
    "<li> <font size='3'>Ingrese el código a continuación que genera el siguiente numpy array: </font></li>\n",
    "\n",
    "```python\n",
    "#Result\n",
    "array([[ 4,  9, 14, 19, 24],\n",
    "       [29, 34, 39, 44, 49],\n",
    "       [54, 59, 64, 69, 74],\n",
    "       [79, 84, 89, 94, 99]])\n",
    "```    \n",
    "</ol>"
   ]
  },
  {
   "cell_type": "code",
   "execution_count": 7,
   "id": "9b69ffc7",
   "metadata": {},
   "outputs": [
    {
     "data": {
      "text/plain": [
       "array([[ 4,  9, 14, 19, 24],\n",
       "       [29, 34, 39, 44, 49],\n",
       "       [54, 59, 64, 69, 74],\n",
       "       [79, 84, 89, 94, 99]])"
      ]
     },
     "execution_count": 7,
     "metadata": {},
     "output_type": "execute_result"
    }
   ],
   "source": [
    "array = np.arange(4, 100, 5).reshape(4, 5)\n",
    "array\n"
   ]
  },
  {
   "cell_type": "markdown",
   "id": "974f4f6f",
   "metadata": {},
   "source": [
    "<ol start='4'>\n",
    "   \n",
    "<li> <font size='3'>Cree un numpy array de 4 por 2 por 3 con valores normalmente distribuido</font></li>\n",
    "   \n",
    "</ol>"
   ]
  },
  {
   "cell_type": "code",
   "execution_count": 8,
   "id": "fe374410",
   "metadata": {},
   "outputs": [
    {
     "data": {
      "text/plain": [
       "array([[[ 1.70046345,  1.70440632,  0.42619988],\n",
       "        [ 0.26985287, -0.5082341 ,  1.26703367]],\n",
       "\n",
       "       [[-1.02440999, -0.63986885,  0.45811018],\n",
       "        [-0.18633119, -1.01576287,  0.72225408]],\n",
       "\n",
       "       [[ 1.94740803, -2.23707666,  0.68612733],\n",
       "        [-0.74430561,  0.30124701, -0.22389822]],\n",
       "\n",
       "       [[-0.61043895,  0.71656985,  0.26245195],\n",
       "        [-0.64238213, -0.24052462, -2.34576257]]])"
      ]
     },
     "execution_count": 8,
     "metadata": {},
     "output_type": "execute_result"
    }
   ],
   "source": [
    "array = np.random.normal(size=(4, 2, 3))\n",
    "array"
   ]
  },
  {
   "cell_type": "markdown",
   "id": "fe59cf4a",
   "metadata": {},
   "source": [
    "<ol start='5'>\n",
    "   \n",
    "<li> <font size='3'>Ingrese el código a continuación que genera el siguiente numpy array (incluyendo el tipo correcto de datos): </font></li>\n",
    "\n",
    "```python\n",
    "#Result\n",
    "array([[0, 0, 0, 0, 0, 0],\n",
    "       [0, 0, 0, 0, 0, 0],\n",
    "       [1, 0, 0, 0, 0, 0],\n",
    "       [0, 1, 0, 0, 0, 0],\n",
    "       [0, 0, 1, 0, 0, 0],\n",
    "       [0, 0, 0, 1, 0, 0]]\n",
    "```    \n",
    "\n",
    "</ol>"
   ]
  },
  {
   "cell_type": "code",
   "execution_count": 9,
   "id": "ed63892f",
   "metadata": {},
   "outputs": [
    {
     "data": {
      "text/plain": [
       "array([[0, 0, 0, 0, 0, 0],\n",
       "       [0, 0, 0, 0, 0, 0],\n",
       "       [1, 0, 0, 0, 0, 0],\n",
       "       [0, 1, 0, 0, 0, 0],\n",
       "       [0, 0, 1, 0, 0, 0],\n",
       "       [0, 0, 0, 1, 0, 0]])"
      ]
     },
     "execution_count": 9,
     "metadata": {},
     "output_type": "execute_result"
    }
   ],
   "source": [
    "array = np.eye(6, 6, k=-2, dtype=int)\n",
    "array"
   ]
  },
  {
   "cell_type": "markdown",
   "id": "1a711f21",
   "metadata": {},
   "source": [
    "<ol start='6'>\n",
    "   \n",
    "<li> <font size='3'>Dado el numpy array </font></li>\n",
    "\n",
    "```python\n",
    "array([ 3,  5,  7,  9, 11, 13, 15, 17, 19, 21, 23, 25, 27, 29, 31, 33])\n",
    "```    \n",
    "<ol>\n",
    "    <li>Ingrese el código que selccione sólo los últimos 4 elementos:</li>\n",
    "\n",
    "```python\n",
    "#Result\n",
    "array([27, 29, 31, 33])\n",
    "```\n",
    "<li>Ingrese el código que selecciones el siguiente subarray:\n",
    "\n",
    "```python\n",
    "#Result\n",
    "array([ 3,  9, 15, 21, 27, 33])\n",
    "```\n",
    "</ol>\n",
    "</ol>"
   ]
  },
  {
   "cell_type": "markdown",
   "id": "55ea36a6",
   "metadata": {},
   "source": [
    "### Respuestas Item 6\n",
    "### 1.-"
   ]
  },
  {
   "cell_type": "code",
   "execution_count": 10,
   "id": "856f874d",
   "metadata": {},
   "outputs": [
    {
     "data": {
      "text/plain": [
       "array([27, 29, 31, 33])"
      ]
     },
     "execution_count": 10,
     "metadata": {},
     "output_type": "execute_result"
    }
   ],
   "source": [
    "array = np.array([3, 5, 7, 9, 11, 13, 15, 17, 19, 21, 23, 25, 27, 29, 31, 33])\n",
    "ultimas_cuatro = array[-4:]\n",
    "ultimas_cuatro"
   ]
  },
  {
   "cell_type": "markdown",
   "id": "e4c1e3f3",
   "metadata": {},
   "source": [
    "### 2.-"
   ]
  },
  {
   "cell_type": "code",
   "execution_count": 11,
   "id": "78729a82",
   "metadata": {},
   "outputs": [
    {
     "data": {
      "text/plain": [
       "array([ 3,  9, 15, 21, 27, 33])"
      ]
     },
     "execution_count": 11,
     "metadata": {},
     "output_type": "execute_result"
    }
   ],
   "source": [
    "sub_arr = array[::3]\n",
    "sub_arr"
   ]
  },
  {
   "cell_type": "markdown",
   "id": "41967ccc",
   "metadata": {},
   "source": [
    "<ol start='7'>\n",
    "   \n",
    "<li> <font size='3'>Dado el numpy array en 2D </font></li>\n",
    "\n",
    "```python\n",
    "arr_2d=np.array([[69, 75, 52, 33,  7, 62, 22],\n",
    "               [87, 51, 13, 75, 78, 46, 53],\n",
    "               [43, 24, 58, 76,  3,  3, 57],\n",
    "               [84, 86, 75, 26, 71, 77,  7],\n",
    "               [75, 17, 17, 38, 54, 72, 78]])\n",
    "```    \n",
    "<ol>\n",
    "    <li> Ingrese el código que seleccione el elemento 71 en la última fila</li>\n",
    "    <br>\n",
    "   <li> Ingrese el código que seleccione el siguiente subarray:</li>\n",
    "\n",
    "```python\n",
    "#Result\n",
    "array([[76,  3],\n",
    "       [26, 71],\n",
    "       [38, 54]])\n",
    "```\n",
    "<li>Ingrese el código que seleccione el siguiente subarray:\n",
    "\n",
    "```python\n",
    "#Result\n",
    "array([[87, 51, 13, 75, 78, 46, 53],\n",
    "       [43, 24, 58, 76,  3,  3, 57],\n",
    "       [84, 86, 75, 26, 71, 77,  7]])\n",
    "```\n",
    "</ol>\n",
    "</ol>"
   ]
  },
  {
   "cell_type": "markdown",
   "id": "f2249ce6",
   "metadata": {},
   "source": [
    "### Respuestas Item 7"
   ]
  },
  {
   "cell_type": "markdown",
   "id": "b645bd2a",
   "metadata": {},
   "source": [
    "### 1.-"
   ]
  },
  {
   "cell_type": "code",
   "execution_count": 12,
   "id": "d55532a5",
   "metadata": {},
   "outputs": [
    {
     "data": {
      "text/plain": [
       "72"
      ]
     },
     "execution_count": 12,
     "metadata": {},
     "output_type": "execute_result"
    }
   ],
   "source": [
    "array_2d = np.array([[69, 75, 52, 33,  7, 62, 22],\n",
    "                   [87, 51, 13, 75, 78, 46, 53],\n",
    "                   [43, 24, 58, 76,  3,  3, 57],\n",
    "                   [84, 86, 75, 26, 71, 77,  7],\n",
    "                   [75, 17, 17, 38, 54, 72, 78]])\n",
    "\n",
    "elemento_selecionado = array_2d[4, 5]\n",
    "elemento_selecionado"
   ]
  },
  {
   "cell_type": "markdown",
   "id": "78b9f76f",
   "metadata": {},
   "source": [
    "### 2.-"
   ]
  },
  {
   "cell_type": "code",
   "execution_count": 13,
   "id": "437e3c0f",
   "metadata": {},
   "outputs": [
    {
     "data": {
      "text/plain": [
       "array([[76,  3],\n",
       "       [26, 71],\n",
       "       [38, 54]])"
      ]
     },
     "execution_count": 13,
     "metadata": {},
     "output_type": "execute_result"
    }
   ],
   "source": [
    "subarr = array_2d[2:5, 3:5]\n",
    "subarr"
   ]
  },
  {
   "cell_type": "markdown",
   "id": "dba010aa",
   "metadata": {},
   "source": [
    "### 3.-"
   ]
  },
  {
   "cell_type": "code",
   "execution_count": 14,
   "id": "d76ffa35",
   "metadata": {},
   "outputs": [
    {
     "data": {
      "text/plain": [
       "array([[87, 51, 13, 75, 78, 46, 53],\n",
       "       [43, 24, 58, 76,  3,  3, 57],\n",
       "       [84, 86, 75, 26, 71, 77,  7]])"
      ]
     },
     "execution_count": 14,
     "metadata": {},
     "output_type": "execute_result"
    }
   ],
   "source": [
    "subarr3 = array_2d[1:-1, :]\n",
    "subarr3\n"
   ]
  },
  {
   "cell_type": "markdown",
   "id": "6cf35944",
   "metadata": {},
   "source": [
    "<ol start='8'>\n",
    "   \n",
    "<li> <font size='3'>Dado el numpy array</font></li>\n",
    "\n",
    "```python\n",
    "arr=np.arange(1,50,3)\n",
    "array([ 1,  4,  7, 10, 13, 16, 19, 22, 25, 28, 31, 34, 37, 40, 43, 46, 49])\n",
    "```    \n",
    "<ol>\n",
    "    <li>Ingrese el código que seleccione todos los elementos más grandes que 7 y menores que 43:\n",
    "\n",
    "```python\n",
    "#Result\n",
    "array([10, 13, 16, 19, 22, 25, 28, 31, 34, 37, 40])\n",
    "\n",
    "```\n",
    "   <li>Ingrese el código que selecciona todos los enteros pares más grandes que 11 y menores que 45:</li>\n",
    "\n",
    "```python\n",
    "#Result\n",
    "array([16, 22, 28, 34, 40])\n",
    "```\n",
    "</ol>\n",
    "</ol>"
   ]
  },
  {
   "cell_type": "markdown",
   "id": "0f814e2e",
   "metadata": {},
   "source": [
    "### Respuestas Item 8\n",
    "### 1.-"
   ]
  },
  {
   "cell_type": "code",
   "execution_count": 15,
   "id": "2d32f767",
   "metadata": {},
   "outputs": [
    {
     "data": {
      "text/plain": [
       "array([10, 13, 16, 19, 22, 25, 28, 31, 34, 37, 40])"
      ]
     },
     "execution_count": 15,
     "metadata": {},
     "output_type": "execute_result"
    }
   ],
   "source": [
    "array=np.arange(1,50,3)\n",
    "\n",
    "array[(array > 7) & (array < 43)]\n"
   ]
  },
  {
   "cell_type": "markdown",
   "id": "abf17c78",
   "metadata": {},
   "source": [
    "\n",
    "### 2.-"
   ]
  },
  {
   "cell_type": "code",
   "execution_count": 16,
   "id": "b1a0ea7e",
   "metadata": {},
   "outputs": [
    {
     "data": {
      "text/plain": [
       "array([16, 22, 28, 34, 40])"
      ]
     },
     "execution_count": 16,
     "metadata": {},
     "output_type": "execute_result"
    }
   ],
   "source": [
    "\n",
    "array[(array > 11) & (array < 45) & (array % 2 == 0)]\n"
   ]
  },
  {
   "cell_type": "markdown",
   "id": "c20f72f4",
   "metadata": {},
   "source": [
    "<ol start='9'>\n",
    "   \n",
    "<li> <font size='3'>Cree un 1D array uniformemente distribuido con 20 elementos y calcule: </font></li>\n",
    "\n",
    "\n",
    "<ol>\n",
    "    <li> Media</li>\n",
    "\n",
    "   <li>Deviación estándar</li>\n",
    "   \n",
    "   <li>Mediana</li>\n",
    "   \n",
    "   <li>Media de sus valores en log</li>\n",
    "</ol>\n",
    "</ol>"
   ]
  },
  {
   "cell_type": "markdown",
   "id": "68c4aaad",
   "metadata": {},
   "source": [
    "### Respuestas Item 9"
   ]
  },
  {
   "cell_type": "code",
   "execution_count": 17,
   "id": "7a019706",
   "metadata": {},
   "outputs": [
    {
     "name": "stdout",
     "output_type": "stream",
     "text": [
      "Array creado:  [0.14474013 0.84696859 0.83201251 0.48425079 0.91619998 0.33066146\n",
      " 0.78340283 0.67835387 0.69204915 0.80420907 0.26358102 0.28820031\n",
      " 0.60644864 0.73935373 0.20886545 0.27144841 0.00635282 0.99327066\n",
      " 0.15539089 0.4910983 ]\n",
      "\n",
      "Resultados\n",
      "\n",
      "Media: 0.526842930005585\n",
      "Desviación estándar: 0.2914039653513263\n",
      "Mediana: 0.548773471699157\n",
      "Media de los valores en log: -0.965426187283484\n"
     ]
    }
   ],
   "source": [
    "array = np.random.uniform(size=20)\n",
    "print('Array creado: ', array)\n",
    "# Media\n",
    "mean = np.mean(array)\n",
    "\n",
    "# Desviación estándar\n",
    "std_dev = np.std(array)\n",
    "\n",
    "# Mediana\n",
    "median = np.median(array)\n",
    "\n",
    "# Media de los valores en log\n",
    "log_mean = np.mean(np.log(array))\n",
    "\n",
    "# Imprimir resultados\n",
    "print(f'\\nResultados\\n\\nMedia: {mean}\\nDesviación estándar: {std_dev}\\nMediana: {median}\\nMedia de los valores en log: {log_mean}')\n"
   ]
  },
  {
   "cell_type": "markdown",
   "id": "3e231de0",
   "metadata": {},
   "source": [
    "<ol start='10'>\n",
    "   \n",
    "<li> <font size='3'>Escriba una función que:</font></li>\n",
    "    <ol>\n",
    "    <br>\n",
    "   <li> Tome un numpy array en 1D como input e imprima el arreglo invertido con elementos tipo flotantes</li>\n",
    "\n",
    "For ejemplo, si ingresas el siguiente array en tu función\n",
    "```python\n",
    "array([ 1,  3,  5,  7,  9, 11, 13, 15, 17, 19, 21, 23])\n",
    "```\n",
    "deberías imprimir\n",
    "\n",
    "```python\n",
    "array([23., 21., 19., 17., 15., 13., 11.,  9.,  7.,  5.,  3.,  1.])\n",
    "```\n",
    "\n",
    "<li> Tome un numpy array en 2D como input e imprima una copia del input array <b> flattened</b> a una dimensión </li>\n",
    "\n",
    "For ejemplo, si el input array es:\n",
    "```python\n",
    "array([[7, 4, 8, 3],\n",
    "       [6, 3, 4, 3],\n",
    "       [4, 7, 5, 4]])\n",
    "```\n",
    "el output de tu función debería ser\n",
    "```python\n",
    "array([7, 4, 8, 3, 6, 3, 4, 3, 4, 7, 5, 4])\n",
    "```\n",
    "</ol>\n",
    "</ol>"
   ]
  },
  {
   "cell_type": "markdown",
   "id": "6f5021a3",
   "metadata": {},
   "source": [
    "### Respuestas Item 10"
   ]
  },
  {
   "cell_type": "code",
   "execution_count": 18,
   "id": "483eec22",
   "metadata": {},
   "outputs": [],
   "source": [
    "# Función\n",
    "\n",
    "def operaciones(array):\n",
    "    '''\n",
    "    Esta función recibe un array de numpy y retorna el array invertido si es 1D o el array aplanado si es 2D\n",
    "    '''\n",
    "    if array.ndim == 1:\n",
    "        arr_decimal = array.astype(float)[::-1]\n",
    "        print(arr_decimal)\n",
    "    elif array.ndim == 2:\n",
    "        arr_aplanado = array.flatten()\n",
    "        print(list(arr_aplanado))\n",
    "    else:\n",
    "        print(\"Error: el input debe ser un array de 1D o 2D\")\n"
   ]
  },
  {
   "cell_type": "code",
   "execution_count": 19,
   "id": "4f4607f4",
   "metadata": {},
   "outputs": [
    {
     "name": "stdout",
     "output_type": "stream",
     "text": [
      "[23. 21. 19. 17. 15. 13. 11.  9.  7.  5.  3.  1.]\n"
     ]
    }
   ],
   "source": [
    "array = np.array([1, 3, 5, 7, 9, 11, 13, 15, 17, 19, 21, 23])\n",
    "operaciones(array)"
   ]
  },
  {
   "cell_type": "code",
   "execution_count": 21,
   "id": "5061de58",
   "metadata": {},
   "outputs": [
    {
     "name": "stdout",
     "output_type": "stream",
     "text": [
      "[7, 4, 8, 3, 6, 3, 4, 3, 4, 7, 5, 4]\n"
     ]
    }
   ],
   "source": [
    "array = np.array([[7, 4, 8, 3],\n",
    "                [6, 3, 4, 3],\n",
    "                [4, 7, 5, 4]])\n",
    "operaciones(array)\n"
   ]
  },
  {
   "cell_type": "code",
   "execution_count": null,
   "id": "7034dfb7",
   "metadata": {},
   "outputs": [],
   "source": []
  }
 ],
 "metadata": {
  "kernelspec": {
   "display_name": "Python 3",
   "language": "python",
   "name": "python3"
  },
  "language_info": {
   "codemirror_mode": {
    "name": "ipython",
    "version": 3
   },
   "file_extension": ".py",
   "mimetype": "text/x-python",
   "name": "python",
   "nbconvert_exporter": "python",
   "pygments_lexer": "ipython3",
   "version": "3.7.6"
  }
 },
 "nbformat": 4,
 "nbformat_minor": 5
}
