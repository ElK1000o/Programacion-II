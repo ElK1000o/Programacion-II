{
 "cells": [
  {
   "cell_type": "markdown",
   "id": "43cd5b32",
   "metadata": {},
   "source": [
    "# Tarea 01 - Numpy\n",
    "\n",
    "**Profesor: Ignacio Araya**\n",
    "\n",
    "**Curso: Programación II**"
   ]
  },
  {
   "cell_type": "code",
   "execution_count": 15,
   "id": "cb9b1188-8e6a-4aa7-b440-b9f8e8fb6582",
   "metadata": {},
   "outputs": [],
   "source": [
    "import numpy as np"
   ]
  },
  {
   "cell_type": "markdown",
   "id": "0ad7da2d",
   "metadata": {},
   "source": [
    "<h3> Completa los siguientes ejercicios. Documente su código según sea necesario. 10 puntos cada ejercicio</h3>\n",
    "<br>\n",
    "\n",
    "<ol>\n",
    "<li><font size=3> Cree un Numpy Array de 5 por 7 de números enteros aleatorios con valores entre 3 y 11 inclusive. Luego haz lo siguiente:\n",
    "     <ol> <li>Verifique el tipo de datos del array</li>\n",
    "         <li>Encuentre el máximo de todo el array</li>\n",
    "         <li>Encuentre el valor mínimo de cada fila</li>\n",
    "         <li>Encuentre el índice donde ocurre el valor mínimo de cada fila</li>\n",
    "     </ol></font></li>\n",
    "</ol>"
   ]
  },
  {
   "cell_type": "code",
   "execution_count": 16,
   "id": "bddcf2a4-eca1-4c45-812c-959ef0b7b685",
   "metadata": {},
   "outputs": [
    {
     "data": {
      "text/plain": [
       "array([[ 4,  4,  4,  7,  4, 10, 11],\n",
       "       [ 6,  7,  7,  6, 10,  7, 10],\n",
       "       [ 7,  3,  7,  7,  5,  7, 10],\n",
       "       [ 8, 10,  4,  8, 10, 11,  3],\n",
       "       [ 4, 11,  9,  4, 11,  7, 10]])"
      ]
     },
     "execution_count": 16,
     "metadata": {},
     "output_type": "execute_result"
    }
   ],
   "source": [
    "x = random.randint(3, 12, size=(5, 7))\n",
    "x"
   ]
  },
  {
   "cell_type": "code",
   "execution_count": 17,
   "id": "fa5283e8-39ea-4c14-ba31-3575dcde7c48",
   "metadata": {},
   "outputs": [
    {
     "data": {
      "text/plain": [
       "dtype('int32')"
      ]
     },
     "execution_count": 17,
     "metadata": {},
     "output_type": "execute_result"
    }
   ],
   "source": [
    "tipo = x.dtype\n",
    "tipo"
   ]
  },
  {
   "cell_type": "code",
   "execution_count": 19,
   "id": "765f7aa1-28af-46cf-bf29-9b9a0b1ac7c1",
   "metadata": {},
   "outputs": [
    {
     "data": {
      "text/plain": [
       "11"
      ]
     },
     "execution_count": 19,
     "metadata": {},
     "output_type": "execute_result"
    }
   ],
   "source": [
    "max = np.max(x)\n",
    "max"
   ]
  },
  {
   "cell_type": "code",
   "execution_count": 21,
   "id": "21aa5d5f-9874-4a92-a8fa-ff9ea23c3d06",
   "metadata": {},
   "outputs": [
    {
     "data": {
      "text/plain": [
       "array([4, 6, 3, 3, 4])"
      ]
     },
     "execution_count": 21,
     "metadata": {},
     "output_type": "execute_result"
    }
   ],
   "source": [
    "min = np.min(x, axis=1)\n",
    "min"
   ]
  },
  {
   "cell_type": "code",
   "execution_count": 23,
   "id": "317afa11-7967-4ec3-be30-819f06675d9f",
   "metadata": {},
   "outputs": [
    {
     "data": {
      "text/plain": [
       "array([0, 0, 1, 6, 0], dtype=int64)"
      ]
     },
     "execution_count": 23,
     "metadata": {},
     "output_type": "execute_result"
    }
   ],
   "source": [
    "ind = np.argmin(x, axis=1)\n",
    "ind"
   ]
  },
  {
   "cell_type": "markdown",
   "id": "3c88eced",
   "metadata": {},
   "source": [
    "<ol start='2'>\n",
    "   \n",
    "<li> <font size='3'>Ingrese el código a continuación que genera el siguiente numpy array: </font></li>\n",
    "\n",
    "```python\n",
    "#Resultado\n",
    "array([ 4, 9, 14, 19, 24, 29, 34, 39, 44, 49, 54, 59, 64, 69, 74, 79, 84, 89, 94, 99])\n",
    "```\n",
    "</ol>"
   ]
  },
  {
   "cell_type": "code",
   "execution_count": 3,
   "id": "08c86c47-96cd-4091-a791-38267f49a7c5",
   "metadata": {},
   "outputs": [
    {
     "data": {
      "text/plain": [
       "array([ 4,  9, 14, 19, 24, 29, 34, 39, 44, 49, 54, 59, 64, 69, 74, 79, 84,\n",
       "       89, 94, 99])"
      ]
     },
     "execution_count": 3,
     "metadata": {},
     "output_type": "execute_result"
    }
   ],
   "source": [
    "a = array([ 4, 9, 14, 19, 24, 29, 34, 39, 44, 49, 54, 59, 64, 69, 74, 79, 84, 89, 94, 99])\n",
    "a"
   ]
  },
  {
   "cell_type": "markdown",
   "id": "e3c4f668",
   "metadata": {},
   "source": [
    "<ol start='3'>\n",
    "   \n",
    "<li> <font size='3'>Ingrese el código a continuación que genera el siguiente numpy array: </font></li>\n",
    "\n",
    "```python\n",
    "#Result\n",
    "array([[ 4,  9, 14, 19, 24],\n",
    "       [29, 34, 39, 44, 49],\n",
    "       [54, 59, 64, 69, 74],\n",
    "       [79, 84, 89, 94, 99]])\n",
    "```    \n",
    "</ol>"
   ]
  },
  {
   "cell_type": "code",
   "execution_count": 4,
   "id": "5f408338-9d70-486f-a7e9-4eb4fb2ed679",
   "metadata": {},
   "outputs": [
    {
     "data": {
      "text/plain": [
       "array([[ 4,  9, 14, 19, 24],\n",
       "       [29, 34, 39, 44, 49],\n",
       "       [54, 59, 64, 69, 74],\n",
       "       [79, 84, 89, 94, 99]])"
      ]
     },
     "execution_count": 4,
     "metadata": {},
     "output_type": "execute_result"
    }
   ],
   "source": [
    "b = array([[ 4,  9, 14, 19, 24],\n",
    "       [29, 34, 39, 44, 49],\n",
    "       [54, 59, 64, 69, 74],\n",
    "       [79, 84, 89, 94, 99]])\n",
    "b"
   ]
  },
  {
   "cell_type": "markdown",
   "id": "3d6430af",
   "metadata": {},
   "source": [
    "<ol start='4'>\n",
    "   \n",
    "<li> <font size='3'>Cree un numpy array de 4 por 2 por 3 con valores normalmente distribuido</font></li>\n",
    "   \n",
    "</ol>"
   ]
  },
  {
   "cell_type": "code",
   "execution_count": 6,
   "id": "42ed94d3-ff5a-4147-b6b0-55f58cab8a95",
   "metadata": {},
   "outputs": [
    {
     "data": {
      "text/plain": [
       "array([[[ 0.49864099,  0.46411924, -0.2178669 ],\n",
       "        [-1.03901729, -2.46476857,  0.35584624]],\n",
       "\n",
       "       [[-1.90638809,  0.50891471, -1.05187591],\n",
       "        [-1.05601931, -1.12836342, -0.38941066]],\n",
       "\n",
       "       [[-0.40457821, -0.60358035, -0.43305759],\n",
       "        [-0.28519101, -1.95183417, -0.88377046]],\n",
       "\n",
       "       [[ 0.07212879, -1.18033203,  0.83686525],\n",
       "        [ 1.09549819, -0.83882774, -0.07283085]]])"
      ]
     },
     "execution_count": 6,
     "metadata": {},
     "output_type": "execute_result"
    }
   ],
   "source": [
    "c = random.normal(loc=0.0, scale=1.0, size=(4, 2, 3))\n",
    "c"
   ]
  },
  {
   "cell_type": "markdown",
   "id": "c642fc02",
   "metadata": {},
   "source": [
    "<ol start='5'>\n",
    "   \n",
    "<li> <font size='3'>Ingrese el código a continuación que genera el siguiente numpy array (incluyendo el tipo correcto de datos): </font></li>\n",
    "\n",
    "```python\n",
    "#Result\n",
    "array([[0, 0, 0, 0, 0, 0],\n",
    "       [0, 0, 0, 0, 0, 0],\n",
    "       [1, 0, 0, 0, 0, 0],\n",
    "       [0, 1, 0, 0, 0, 0],\n",
    "       [0, 0, 1, 0, 0, 0],\n",
    "       [0, 0, 0, 1, 0, 0]]\n",
    "```    \n",
    "\n",
    "</ol>"
   ]
  },
  {
   "cell_type": "code",
   "execution_count": 28,
   "id": "f6d8b3df-7a9a-4d70-80c8-3f4071b2f556",
   "metadata": {},
   "outputs": [
    {
     "name": "stdout",
     "output_type": "stream",
     "text": [
      "[[0 0 0 0 0 0]\n",
      " [0 0 0 0 0 0]\n",
      " [1 0 0 0 0 0]\n",
      " [0 1 0 0 0 0]\n",
      " [0 0 1 0 0 0]\n",
      " [0 0 0 1 0 0]] int32\n"
     ]
    }
   ],
   "source": [
    "d = array([[0, 0, 0, 0, 0, 0],\n",
    "       [0, 0, 0, 0, 0, 0],\n",
    "       [1, 0, 0, 0, 0, 0],\n",
    "       [0, 1, 0, 0, 0, 0],\n",
    "       [0, 0, 1, 0, 0, 0],\n",
    "       [0, 0, 0, 1, 0, 0]])\n",
    "tipo = d.dtype\n",
    "print(d, tipo)"
   ]
  },
  {
   "cell_type": "markdown",
   "id": "3d509a54",
   "metadata": {},
   "source": [
    "<ol start='6'>\n",
    "   \n",
    "<li> <font size='3'>Dado el numpy array </font></li>\n",
    "\n",
    "```python\n",
    "array([ 3,  5,  7,  9, 11, 13, 15, 17, 19, 21, 23, 25, 27, 29, 31, 33])\n",
    "```    \n",
    "<ol>\n",
    "    <li>Ingrese el código que selccione sólo los últimos 4 elementos:</li>\n",
    "\n",
    "```python\n",
    "#Result\n",
    "array([27, 29, 31, 33])\n",
    "```\n",
    "<li>Ingrese el código que selecciones el siguiente subarray:\n",
    "\n",
    "```python\n",
    "#Result\n",
    "array([ 3,  9, 15, 21, 27, 33])\n",
    "```\n",
    "</ol>\n",
    "</ol>"
   ]
  },
  {
   "cell_type": "code",
   "execution_count": 29,
   "id": "aea0adb9-1e0b-4a85-8ffc-ae7b52cb15fe",
   "metadata": {},
   "outputs": [
    {
     "data": {
      "text/plain": [
       "array([ 3,  5,  7,  9, 11, 13, 15, 17, 19, 21, 23, 25, 27, 29, 31, 33])"
      ]
     },
     "execution_count": 29,
     "metadata": {},
     "output_type": "execute_result"
    }
   ],
   "source": [
    "e = array([ 3,  5,  7,  9, 11, 13, 15, 17, 19, 21, 23, 25, 27, 29, 31, 33])\n",
    "e"
   ]
  },
  {
   "cell_type": "code",
   "execution_count": 30,
   "id": "ff31ad41-cde8-48af-b0a2-3fb62a4f5d69",
   "metadata": {},
   "outputs": [
    {
     "data": {
      "text/plain": [
       "array([27, 29, 31, 33])"
      ]
     },
     "execution_count": 30,
     "metadata": {},
     "output_type": "execute_result"
    }
   ],
   "source": [
    "e1 = e[-4:]\n",
    "e1"
   ]
  },
  {
   "cell_type": "code",
   "execution_count": 32,
   "id": "c15a2110-ba2b-47fb-86c0-981967038335",
   "metadata": {},
   "outputs": [
    {
     "data": {
      "text/plain": [
       "array([ 3,  9, 15, 21, 27, 33])"
      ]
     },
     "execution_count": 32,
     "metadata": {},
     "output_type": "execute_result"
    }
   ],
   "source": [
    "e2 = e[::3]\n",
    "e2"
   ]
  },
  {
   "cell_type": "markdown",
   "id": "89a2de1b",
   "metadata": {},
   "source": [
    "<ol start='7'>\n",
    "   \n",
    "<li> <font size='3'>Dado el numpy array en 2D </font></li>\n",
    "\n",
    "```python\n",
    "arr_2d=np.array([[69, 75, 52, 33,  7, 62, 22],\n",
    "               [87, 51, 13, 75, 78, 46, 53],\n",
    "               [43, 24, 58, 76,  3,  3, 57],\n",
    "               [84, 86, 75, 26, 71, 77,  7],\n",
    "               [75, 17, 17, 38, 54, 72, 78]])\n",
    "```    \n",
    "<ol>\n",
    "    <li> Ingrese el código que seleccione el elemento 71 en la última fila</li>\n",
    "    <br>\n",
    "   <li> Ingrese el código que seleccione el siguiente subarray:</li>\n",
    "\n",
    "```python\n",
    "#Result\n",
    "array([[76,  3],\n",
    "       [26, 71],\n",
    "       [38, 54]])\n",
    "```\n",
    "<li>Ingrese el código que seleccione el siguiente subarray:\n",
    "\n",
    "```python\n",
    "#Result\n",
    "array([[87, 51, 13, 75, 78, 46, 53],\n",
    "       [43, 24, 58, 76,  3,  3, 57],\n",
    "       [84, 86, 75, 26, 71, 77,  7]])\n",
    "```\n",
    "</ol>\n",
    "</ol>"
   ]
  },
  {
   "cell_type": "code",
   "execution_count": 33,
   "id": "8ddb7296-cf46-4944-b6e3-4bcc18e44e9f",
   "metadata": {},
   "outputs": [
    {
     "data": {
      "text/plain": [
       "array([[69, 75, 52, 33,  7, 62, 22],\n",
       "       [87, 51, 13, 75, 78, 46, 53],\n",
       "       [43, 24, 58, 76,  3,  3, 57],\n",
       "       [84, 86, 75, 26, 71, 77,  7],\n",
       "       [75, 17, 17, 38, 54, 72, 78]])"
      ]
     },
     "execution_count": 33,
     "metadata": {},
     "output_type": "execute_result"
    }
   ],
   "source": [
    "f = np.array([[69, 75, 52, 33,  7, 62, 22],\n",
    "             [87, 51, 13, 75, 78, 46, 53],\n",
    "             [43, 24, 58, 76,  3,  3, 57],\n",
    "             [84, 86, 75, 26, 71, 77,  7],\n",
    "             [75, 17, 17, 38, 54, 72, 78]])\n",
    "f"
   ]
  },
  {
   "cell_type": "code",
   "execution_count": 39,
   "id": "2083a221-0079-41a5-b7b0-5459a9ca1b4f",
   "metadata": {},
   "outputs": [
    {
     "data": {
      "text/plain": [
       "71"
      ]
     },
     "execution_count": 39,
     "metadata": {},
     "output_type": "execute_result"
    }
   ],
   "source": [
    "f1 = f[-2, 4]\n",
    "f1"
   ]
  },
  {
   "cell_type": "code",
   "execution_count": 37,
   "id": "2c820a7e-7081-4776-b26f-358286c1806b",
   "metadata": {},
   "outputs": [
    {
     "data": {
      "text/plain": [
       "array([[76,  3],\n",
       "       [26, 71],\n",
       "       [38, 54]])"
      ]
     },
     "execution_count": 37,
     "metadata": {},
     "output_type": "execute_result"
    }
   ],
   "source": [
    "f2 = f[-3:, 3:5]\n",
    "f2"
   ]
  },
  {
   "cell_type": "code",
   "execution_count": 38,
   "id": "1e8bca9f-3e15-47a2-88e5-0845c81aa352",
   "metadata": {},
   "outputs": [
    {
     "data": {
      "text/plain": [
       "array([[87, 51, 13, 75, 78, 46, 53],\n",
       "       [43, 24, 58, 76,  3,  3, 57],\n",
       "       [84, 86, 75, 26, 71, 77,  7]])"
      ]
     },
     "execution_count": 38,
     "metadata": {},
     "output_type": "execute_result"
    }
   ],
   "source": [
    "f3 = f[1:4, :]\n",
    "f3"
   ]
  },
  {
   "cell_type": "markdown",
   "id": "c9676eaa",
   "metadata": {},
   "source": [
    "<ol start='8'>\n",
    "   \n",
    "<li> <font size='3'>Dado el numpy array</font></li>\n",
    "\n",
    "```python\n",
    "arr=np.arange(1,50,3)\n",
    "array([ 1,  4,  7, 10, 13, 16, 19, 22, 25, 28, 31, 34, 37, 40, 43, 46, 49])\n",
    "```    \n",
    "<ol>\n",
    "    <li>Ingrese el código que seleccione todos los elementos más grandes que 7 y menores que 43:\n",
    "\n",
    "```python\n",
    "#Result\n",
    "array([10, 13, 16, 19, 22, 25, 28, 31, 34, 37, 40])\n",
    "\n",
    "```\n",
    "   <li>Ingrese el código que selecciona todos los enteros pares más grandes que 11 y menores que 45:</li>\n",
    "\n",
    "```python\n",
    "#Result\n",
    "array([16, 22, 28, 34, 40])\n",
    "```\n",
    "</ol>\n",
    "</ol>"
   ]
  },
  {
   "cell_type": "code",
   "execution_count": 40,
   "id": "1bcf8eee-311c-4d1d-8e1b-20caad19d588",
   "metadata": {},
   "outputs": [
    {
     "data": {
      "text/plain": [
       "array([ 1,  4,  7, 10, 13, 16, 19, 22, 25, 28, 31, 34, 37, 40, 43, 46, 49])"
      ]
     },
     "execution_count": 40,
     "metadata": {},
     "output_type": "execute_result"
    }
   ],
   "source": [
    "arr=np.arange(1,50,3)\n",
    "arr"
   ]
  },
  {
   "cell_type": "code",
   "execution_count": 42,
   "id": "7e59e30e-f71b-4362-b5f5-32eea742667f",
   "metadata": {},
   "outputs": [
    {
     "data": {
      "text/plain": [
       "array([10, 13, 16, 19, 22, 25, 28, 31, 34, 37, 40])"
      ]
     },
     "execution_count": 42,
     "metadata": {},
     "output_type": "execute_result"
    }
   ],
   "source": [
    "g = arr[(arr > 7) & (arr < 43)]\n",
    "g"
   ]
  },
  {
   "cell_type": "code",
   "execution_count": 43,
   "id": "fcb974d1-5235-43b1-82e3-84fc53954d5c",
   "metadata": {},
   "outputs": [
    {
     "data": {
      "text/plain": [
       "array([16, 22, 28, 34, 40])"
      ]
     },
     "execution_count": 43,
     "metadata": {},
     "output_type": "execute_result"
    }
   ],
   "source": [
    "g1 = arr[(arr > 11) & (arr < 45) & (arr % 2 == 0)]\n",
    "g1"
   ]
  },
  {
   "cell_type": "markdown",
   "id": "3fb4ffd6",
   "metadata": {},
   "source": [
    "<ol start='9'>\n",
    "   \n",
    "<li> <font size='3'>Cree un 1D array uniformemente distribuido con 20 elementos y calcule: </font></li>\n",
    "\n",
    "\n",
    "<ol>\n",
    "    <li> Media</li>\n",
    "\n",
    "   <li>Deviación estándar</li>\n",
    "   \n",
    "   <li>Mediana</li>\n",
    "   \n",
    "   <li>Media de sus valores en log</li>\n",
    "</ol>\n",
    "</ol>"
   ]
  },
  {
   "cell_type": "code",
   "execution_count": 44,
   "id": "2dd5b833-8ef2-4c6a-a0ad-01a9c2b52090",
   "metadata": {},
   "outputs": [
    {
     "data": {
      "text/plain": [
       "array([16.70064358, 64.09872403, 31.09488015, 95.6899049 , 63.76795805,\n",
       "       44.65910548, 98.61294946, 41.27132859, 14.77551708, 43.201974  ,\n",
       "       96.77861812, 33.36812318,  3.85197484, 75.39278451,  9.53976565,\n",
       "       37.2533409 , 36.59077073, 48.85072593, 83.3001862 ,  4.43777322])"
      ]
     },
     "execution_count": 44,
     "metadata": {},
     "output_type": "execute_result"
    }
   ],
   "source": [
    "h = np.random.uniform(0, 100, size=20)\n",
    "h"
   ]
  },
  {
   "cell_type": "code",
   "execution_count": 45,
   "id": "bc00cd38-19ed-46bc-b1eb-a76853f75a21",
   "metadata": {},
   "outputs": [
    {
     "data": {
      "text/plain": [
       "47.16185243065753"
      ]
     },
     "execution_count": 45,
     "metadata": {},
     "output_type": "execute_result"
    }
   ],
   "source": [
    "media = np.mean(h)\n",
    "media"
   ]
  },
  {
   "cell_type": "code",
   "execution_count": 46,
   "id": "1b996090-38b0-4925-be4c-b1634a22849f",
   "metadata": {},
   "outputs": [
    {
     "data": {
      "text/plain": [
       "29.95054711715227"
      ]
     },
     "execution_count": 46,
     "metadata": {},
     "output_type": "execute_result"
    }
   ],
   "source": [
    "DE = np.std(h)\n",
    "DE"
   ]
  },
  {
   "cell_type": "code",
   "execution_count": 47,
   "id": "561a3a60-1919-4d8f-93ca-f92b70595951",
   "metadata": {},
   "outputs": [
    {
     "data": {
      "text/plain": [
       "42.23665129615198"
      ]
     },
     "execution_count": 47,
     "metadata": {},
     "output_type": "execute_result"
    }
   ],
   "source": [
    "mediana = np.median(h)\n",
    "mediana"
   ]
  },
  {
   "cell_type": "code",
   "execution_count": 48,
   "id": "b225ed09-8bb0-47ea-be13-622824556cdb",
   "metadata": {},
   "outputs": [
    {
     "data": {
      "text/plain": [
       "3.5362134566790173"
      ]
     },
     "execution_count": 48,
     "metadata": {},
     "output_type": "execute_result"
    }
   ],
   "source": [
    "media_log = np.mean(np.log(h))\n",
    "media_log"
   ]
  },
  {
   "cell_type": "markdown",
   "id": "e1dc3942",
   "metadata": {},
   "source": [
    "<ol start='10'>\n",
    "   \n",
    "<li> <font size='3'>Escriba una función que:</font></li>\n",
    "    <ol>\n",
    "    <br>\n",
    "   <li> Tome un numpy array en 1D como input e imprima el arreglo invertido con elementos tipo flotantes</li>\n",
    "\n",
    "For ejemplo, si ingresas el siguiente array en tu función\n",
    "```python\n",
    "array([ 1,  3,  5,  7,  9, 11, 13, 15, 17, 19, 21, 23])\n",
    "```\n",
    "deberías imprimir\n",
    "\n",
    "```python\n",
    "array([23., 21., 19., 17., 15., 13., 11.,  9.,  7.,  5.,  3.,  1.])\n",
    "```\n",
    "\n",
    "<li> Tome un numpy array en 2D como input e imprima una copia del input array <b> flattened</b> a una dimensión </li>\n",
    "\n",
    "For ejemplo, si el input array es:\n",
    "```python\n",
    "array([[7, 4, 8, 3],\n",
    "       [6, 3, 4, 3],\n",
    "       [4, 7, 5, 4]])\n",
    "```\n",
    "el output de tu función debería ser\n",
    "```python\n",
    "array([7, 4, 8, 3, 6, 3, 4, 3, 4, 7, 5, 4])\n",
    "```\n",
    "</ol>\n",
    "</ol>"
   ]
  },
  {
   "cell_type": "code",
   "execution_count": 49,
   "id": "8f6da7e1-42f7-41cf-b390-e43119361945",
   "metadata": {},
   "outputs": [],
   "source": [
    "def invertir(x):\n",
    "    inv = np.flip(x).astype(float)\n",
    "    print(inv)\n",
    "\n",
    "def aplanar(x):\n",
    "    plan = x.flatten()\n",
    "    print(plan)"
   ]
  },
  {
   "cell_type": "code",
   "execution_count": 57,
   "id": "44052010-f165-46f0-a7c5-9ac6f5998725",
   "metadata": {},
   "outputs": [
    {
     "name": "stdout",
     "output_type": "stream",
     "text": [
      "[23. 21. 19. 17. 15. 13. 11.  9.  7.  5.  3.  1.]\n"
     ]
    }
   ],
   "source": [
    "_1d = np.array([1, 3, 5, 7, 9, 11, 13, 15, 17, 19, 21, 23])\n",
    "\n",
    "invertir(_1d)"
   ]
  },
  {
   "cell_type": "code",
   "execution_count": 58,
   "id": "55bb4113-538a-4515-96db-45af86fdde5f",
   "metadata": {},
   "outputs": [
    {
     "name": "stdout",
     "output_type": "stream",
     "text": [
      "[7 4 8 3 6 3 4 3 4 7 5 4]\n"
     ]
    }
   ],
   "source": [
    "_2d = np.array([[7, 4, 8, 3], [6, 3, 4, 3], [4, 7, 5, 4]])\n",
    "\n",
    "aplanar(_2d)"
   ]
  }
 ],
 "metadata": {
  "kernelspec": {
   "display_name": "Python 3 (ipykernel)",
   "language": "python",
   "name": "python3"
  },
  "language_info": {
   "codemirror_mode": {
    "name": "ipython",
    "version": 3
   },
   "file_extension": ".py",
   "mimetype": "text/x-python",
   "name": "python",
   "nbconvert_exporter": "python",
   "pygments_lexer": "ipython3",
   "version": "3.11.7"
  }
 },
 "nbformat": 4,
 "nbformat_minor": 5
}
